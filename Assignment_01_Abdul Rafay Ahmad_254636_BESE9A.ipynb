{
  "nbformat": 4,
  "nbformat_minor": 0,
  "metadata": {
    "kernelspec": {
      "display_name": "Python 3",
      "language": "python",
      "name": "python3"
    },
    "language_info": {
      "codemirror_mode": {
        "name": "ipython",
        "version": 3
      },
      "file_extension": ".py",
      "mimetype": "text/x-python",
      "name": "python",
      "nbconvert_exporter": "python",
      "pygments_lexer": "ipython3",
      "version": "3.8.5"
    },
    "colab": {
      "name": "Assignment_01_Data_Visualization_COVID19.ipynb",
      "provenance": []
    }
  },
  "cells": [
    {
      "cell_type": "markdown",
      "metadata": {
        "id": "cFK0BJCQp7Vv"
      },
      "source": [
        "# Assignment # 01: Data Preprocessing and Visualization"
      ]
    },
    {
      "cell_type": "markdown",
      "metadata": {
        "id": "8iwRa3h5qUH9"
      },
      "source": [
        "### Name: Abdul Rafay Ahmad\n",
        "### Class: BESE9A\n",
        "### CMS ID: 254636"
      ]
    },
    {
      "cell_type": "markdown",
      "metadata": {
        "id": "rGF6NdS4p7Vx"
      },
      "source": [
        "# CS471: Machine Learning\n",
        "### BESE-9 AB\n",
        "### Instructors: Dr Omar Arif\n",
        "#### Due Date: March 28, 2021"
      ]
    },
    {
      "cell_type": "markdown",
      "metadata": {
        "id": "GSaoB1IUp7Vz"
      },
      "source": [
        "### Introduction\n",
        "\n",
        "The Novel Coronavirus (COVID19) which causes respiratory illnesss was first detected in Wuhan, China. Since the disease is contagious, it has spread all over the world due to the high number of tourism and business visits to / from China. As you all are very well aware, COVID19 has been labelled as a global pandemic now by World Health Organization. \n",
        "Scientists all over the world are trying to drive insights from the datasets to come up with a possible prediction which will help with estimating the spread, and the virus frequency and duration. \n",
        "Johns Hopkins University has made an excellent dashboard using the affected cases data. The dataset is made available at Kaggle and can be downloaded for the purpose of research.\n",
        "For this assignment, we will use the Kaggle COVID-19 dataset (Download here: <a href=\"https://www.kaggle.com/sudalairajkumar/novel-corona-virus-2019-dataset\" title=\"DATASET\">DATASET</a>) and will try to learn some insights using the power of Machine Learning.\n",
        "The Johns Hopkins University's web based dashboard can be accessed here:\n",
        "<a href=\"https://gisanddata.maps.arcgis.com/apps/opsdashboard/index.html#/bda7594740fd40299423467b48e9ecf6\" title=\"Web Dashboard\">Web Dashboard</a>"
      ]
    },
    {
      "cell_type": "markdown",
      "metadata": {
        "id": "eYaIec4ap7V0"
      },
      "source": [
        "#### Question # 01\n",
        "\n",
        "As you must have noticed, there are 6 files in the data you have downloaded from Kaggle.\n",
        "For this question, we will use the main file `covid_19_data.csv`.\n",
        "The steps to follow are given:\n",
        "1. Read the data file and examine the features\n",
        "2. Since the dataset is a bit sparse, clean the dataset by dropping rows which have missing points.\n",
        "3. Print the initial 10 rows of the data.\n",
        "\n",
        "Note: Please use Pandas"
      ]
    },
    {
      "cell_type": "code",
      "metadata": {
        "colab": {
          "base_uri": "https://localhost:8080/",
          "height": 359
        },
        "id": "LZUnbCoRp7V0",
        "outputId": "7bb0537a-8897-449c-8d08-cb6647d77c65"
      },
      "source": [
        "import pandas as pd\n",
        "import numpy as np\n",
        "\n",
        "#Reading the file\n",
        "# Using parse_dates to bring proper formating on dates for later use in Q3\n",
        "df = pd.read_csv(\"covid_19_data.csv\", parse_dates = ['ObservationDate'])\n",
        "\n",
        "#Droping rows with missing variables\n",
        "df.dropna()\n",
        "df.drop(df[df['Province/State'] == 'Recovered'].index , inplace = True)\n",
        "df.drop(df[df['Province/State'] == 'US'].index , inplace = True)\n",
        "\n",
        "#Printing first 10 rows\n",
        "df.head(10)"
      ],
      "execution_count": 89,
      "outputs": [
        {
          "output_type": "execute_result",
          "data": {
            "text/html": [
              "<div>\n",
              "<style scoped>\n",
              "    .dataframe tbody tr th:only-of-type {\n",
              "        vertical-align: middle;\n",
              "    }\n",
              "\n",
              "    .dataframe tbody tr th {\n",
              "        vertical-align: top;\n",
              "    }\n",
              "\n",
              "    .dataframe thead th {\n",
              "        text-align: right;\n",
              "    }\n",
              "</style>\n",
              "<table border=\"1\" class=\"dataframe\">\n",
              "  <thead>\n",
              "    <tr style=\"text-align: right;\">\n",
              "      <th></th>\n",
              "      <th>SNo</th>\n",
              "      <th>ObservationDate</th>\n",
              "      <th>Province/State</th>\n",
              "      <th>Country/Region</th>\n",
              "      <th>Last Update</th>\n",
              "      <th>Confirmed</th>\n",
              "      <th>Deaths</th>\n",
              "      <th>Recovered</th>\n",
              "    </tr>\n",
              "  </thead>\n",
              "  <tbody>\n",
              "    <tr>\n",
              "      <th>0</th>\n",
              "      <td>1</td>\n",
              "      <td>2020-01-22</td>\n",
              "      <td>Anhui</td>\n",
              "      <td>Mainland China</td>\n",
              "      <td>1/22/2020 17:00</td>\n",
              "      <td>1.0</td>\n",
              "      <td>0.0</td>\n",
              "      <td>0.0</td>\n",
              "    </tr>\n",
              "    <tr>\n",
              "      <th>1</th>\n",
              "      <td>2</td>\n",
              "      <td>2020-01-22</td>\n",
              "      <td>Beijing</td>\n",
              "      <td>Mainland China</td>\n",
              "      <td>1/22/2020 17:00</td>\n",
              "      <td>14.0</td>\n",
              "      <td>0.0</td>\n",
              "      <td>0.0</td>\n",
              "    </tr>\n",
              "    <tr>\n",
              "      <th>2</th>\n",
              "      <td>3</td>\n",
              "      <td>2020-01-22</td>\n",
              "      <td>Chongqing</td>\n",
              "      <td>Mainland China</td>\n",
              "      <td>1/22/2020 17:00</td>\n",
              "      <td>6.0</td>\n",
              "      <td>0.0</td>\n",
              "      <td>0.0</td>\n",
              "    </tr>\n",
              "    <tr>\n",
              "      <th>3</th>\n",
              "      <td>4</td>\n",
              "      <td>2020-01-22</td>\n",
              "      <td>Fujian</td>\n",
              "      <td>Mainland China</td>\n",
              "      <td>1/22/2020 17:00</td>\n",
              "      <td>1.0</td>\n",
              "      <td>0.0</td>\n",
              "      <td>0.0</td>\n",
              "    </tr>\n",
              "    <tr>\n",
              "      <th>4</th>\n",
              "      <td>5</td>\n",
              "      <td>2020-01-22</td>\n",
              "      <td>Gansu</td>\n",
              "      <td>Mainland China</td>\n",
              "      <td>1/22/2020 17:00</td>\n",
              "      <td>0.0</td>\n",
              "      <td>0.0</td>\n",
              "      <td>0.0</td>\n",
              "    </tr>\n",
              "    <tr>\n",
              "      <th>5</th>\n",
              "      <td>6</td>\n",
              "      <td>2020-01-22</td>\n",
              "      <td>Guangdong</td>\n",
              "      <td>Mainland China</td>\n",
              "      <td>1/22/2020 17:00</td>\n",
              "      <td>26.0</td>\n",
              "      <td>0.0</td>\n",
              "      <td>0.0</td>\n",
              "    </tr>\n",
              "    <tr>\n",
              "      <th>6</th>\n",
              "      <td>7</td>\n",
              "      <td>2020-01-22</td>\n",
              "      <td>Guangxi</td>\n",
              "      <td>Mainland China</td>\n",
              "      <td>1/22/2020 17:00</td>\n",
              "      <td>2.0</td>\n",
              "      <td>0.0</td>\n",
              "      <td>0.0</td>\n",
              "    </tr>\n",
              "    <tr>\n",
              "      <th>7</th>\n",
              "      <td>8</td>\n",
              "      <td>2020-01-22</td>\n",
              "      <td>Guizhou</td>\n",
              "      <td>Mainland China</td>\n",
              "      <td>1/22/2020 17:00</td>\n",
              "      <td>1.0</td>\n",
              "      <td>0.0</td>\n",
              "      <td>0.0</td>\n",
              "    </tr>\n",
              "    <tr>\n",
              "      <th>8</th>\n",
              "      <td>9</td>\n",
              "      <td>2020-01-22</td>\n",
              "      <td>Hainan</td>\n",
              "      <td>Mainland China</td>\n",
              "      <td>1/22/2020 17:00</td>\n",
              "      <td>4.0</td>\n",
              "      <td>0.0</td>\n",
              "      <td>0.0</td>\n",
              "    </tr>\n",
              "    <tr>\n",
              "      <th>9</th>\n",
              "      <td>10</td>\n",
              "      <td>2020-01-22</td>\n",
              "      <td>Hebei</td>\n",
              "      <td>Mainland China</td>\n",
              "      <td>1/22/2020 17:00</td>\n",
              "      <td>1.0</td>\n",
              "      <td>0.0</td>\n",
              "      <td>0.0</td>\n",
              "    </tr>\n",
              "  </tbody>\n",
              "</table>\n",
              "</div>"
            ],
            "text/plain": [
              "   SNo ObservationDate Province/State  ... Confirmed Deaths  Recovered\n",
              "0    1      2020-01-22          Anhui  ...       1.0    0.0        0.0\n",
              "1    2      2020-01-22        Beijing  ...      14.0    0.0        0.0\n",
              "2    3      2020-01-22      Chongqing  ...       6.0    0.0        0.0\n",
              "3    4      2020-01-22         Fujian  ...       1.0    0.0        0.0\n",
              "4    5      2020-01-22          Gansu  ...       0.0    0.0        0.0\n",
              "5    6      2020-01-22      Guangdong  ...      26.0    0.0        0.0\n",
              "6    7      2020-01-22        Guangxi  ...       2.0    0.0        0.0\n",
              "7    8      2020-01-22        Guizhou  ...       1.0    0.0        0.0\n",
              "8    9      2020-01-22         Hainan  ...       4.0    0.0        0.0\n",
              "9   10      2020-01-22          Hebei  ...       1.0    0.0        0.0\n",
              "\n",
              "[10 rows x 8 columns]"
            ]
          },
          "metadata": {
            "tags": []
          },
          "execution_count": 89
        }
      ]
    },
    {
      "cell_type": "markdown",
      "metadata": {
        "id": "4kSTav_1p7V1"
      },
      "source": [
        "#### Question # 02\n",
        "\n",
        "1. Rank the countries in the dataset in descending order according to the number of deaths.\n",
        "2. Figure out the most affected provinces/states in top 3 countries with most number of Deaths.\n",
        "3. Repeat the first two steps for Recovered and Confirmed cases as well.\n",
        "4. Plot a bar graph for top 10 states in China and US in accordance to the death cases, and recovered cases."
      ]
    },
    {
      "cell_type": "code",
      "metadata": {
        "colab": {
          "base_uri": "https://localhost:8080/",
          "height": 390
        },
        "id": "dlprixMOp7V1",
        "outputId": "121c09c9-4bb5-4a6a-9c9b-438feef2e520"
      },
      "source": [
        "import matplotlib.pyplot as plt\n",
        "from matplotlib.pyplot import figure\n",
        "\n",
        "#Shortlisting by using groupby\n",
        "gd = df.groupby('Country/Region')\n",
        "sum_gd = gd.sum('Deaths')\n",
        "\n",
        "#Sorting in decending order\n",
        "sort_by_death = sum_gd.sort_values(by=['Deaths'], ascending = False)\n",
        "sort_by_death.head(10)"
      ],
      "execution_count": 90,
      "outputs": [
        {
          "output_type": "execute_result",
          "data": {
            "text/html": [
              "<div>\n",
              "<style scoped>\n",
              "    .dataframe tbody tr th:only-of-type {\n",
              "        vertical-align: middle;\n",
              "    }\n",
              "\n",
              "    .dataframe tbody tr th {\n",
              "        vertical-align: top;\n",
              "    }\n",
              "\n",
              "    .dataframe thead th {\n",
              "        text-align: right;\n",
              "    }\n",
              "</style>\n",
              "<table border=\"1\" class=\"dataframe\">\n",
              "  <thead>\n",
              "    <tr style=\"text-align: right;\">\n",
              "      <th></th>\n",
              "      <th>SNo</th>\n",
              "      <th>Confirmed</th>\n",
              "      <th>Deaths</th>\n",
              "      <th>Recovered</th>\n",
              "    </tr>\n",
              "    <tr>\n",
              "      <th>Country/Region</th>\n",
              "      <th></th>\n",
              "      <th></th>\n",
              "      <th></th>\n",
              "      <th></th>\n",
              "    </tr>\n",
              "  </thead>\n",
              "  <tbody>\n",
              "    <tr>\n",
              "      <th>US</th>\n",
              "      <td>2152328402</td>\n",
              "      <td>3.201291e+09</td>\n",
              "      <td>72223040.0</td>\n",
              "      <td>2.610000e+02</td>\n",
              "    </tr>\n",
              "    <tr>\n",
              "      <th>Brazil</th>\n",
              "      <td>990718125</td>\n",
              "      <td>1.417935e+09</td>\n",
              "      <td>40013970.0</td>\n",
              "      <td>1.223330e+09</td>\n",
              "    </tr>\n",
              "    <tr>\n",
              "      <th>India</th>\n",
              "      <td>1329199205</td>\n",
              "      <td>1.705856e+09</td>\n",
              "      <td>26087127.0</td>\n",
              "      <td>1.553543e+09</td>\n",
              "    </tr>\n",
              "    <tr>\n",
              "      <th>Mexico</th>\n",
              "      <td>1194396779</td>\n",
              "      <td>2.532551e+08</td>\n",
              "      <td>24061279.0</td>\n",
              "      <td>1.973491e+08</td>\n",
              "    </tr>\n",
              "    <tr>\n",
              "      <th>UK</th>\n",
              "      <td>595195427</td>\n",
              "      <td>3.854992e+08</td>\n",
              "      <td>17619785.0</td>\n",
              "      <td>1.082499e+06</td>\n",
              "    </tr>\n",
              "    <tr>\n",
              "      <th>Italy</th>\n",
              "      <td>773600304</td>\n",
              "      <td>2.977199e+08</td>\n",
              "      <td>15638400.0</td>\n",
              "      <td>2.007154e+08</td>\n",
              "    </tr>\n",
              "    <tr>\n",
              "      <th>France</th>\n",
              "      <td>426411242</td>\n",
              "      <td>3.957382e+08</td>\n",
              "      <td>13676000.0</td>\n",
              "      <td>3.974989e+07</td>\n",
              "    </tr>\n",
              "    <tr>\n",
              "      <th>Spain</th>\n",
              "      <td>735916505</td>\n",
              "      <td>3.401954e+08</td>\n",
              "      <td>12140448.0</td>\n",
              "      <td>4.750940e+07</td>\n",
              "    </tr>\n",
              "    <tr>\n",
              "      <th>Iran</th>\n",
              "      <td>37646369</td>\n",
              "      <td>2.000090e+08</td>\n",
              "      <td>9572350.0</td>\n",
              "      <td>1.616783e+08</td>\n",
              "    </tr>\n",
              "    <tr>\n",
              "      <th>Russia</th>\n",
              "      <td>3012757464</td>\n",
              "      <td>5.110407e+08</td>\n",
              "      <td>9066743.0</td>\n",
              "      <td>4.060025e+08</td>\n",
              "    </tr>\n",
              "  </tbody>\n",
              "</table>\n",
              "</div>"
            ],
            "text/plain": [
              "                       SNo     Confirmed      Deaths     Recovered\n",
              "Country/Region                                                    \n",
              "US              2152328402  3.201291e+09  72223040.0  2.610000e+02\n",
              "Brazil           990718125  1.417935e+09  40013970.0  1.223330e+09\n",
              "India           1329199205  1.705856e+09  26087127.0  1.553543e+09\n",
              "Mexico          1194396779  2.532551e+08  24061279.0  1.973491e+08\n",
              "UK               595195427  3.854992e+08  17619785.0  1.082499e+06\n",
              "Italy            773600304  2.977199e+08  15638400.0  2.007154e+08\n",
              "France           426411242  3.957382e+08  13676000.0  3.974989e+07\n",
              "Spain            735916505  3.401954e+08  12140448.0  4.750940e+07\n",
              "Iran              37646369  2.000090e+08   9572350.0  1.616783e+08\n",
              "Russia          3012757464  5.110407e+08   9066743.0  4.060025e+08"
            ]
          },
          "metadata": {
            "tags": []
          },
          "execution_count": 90
        }
      ]
    },
    {
      "cell_type": "markdown",
      "metadata": {
        "id": "aYxI2ZgGzbc6"
      },
      "source": [
        "## We can see that the top 3 countries are:\n",
        "### US \n",
        "### Brazil \n",
        "### India"
      ]
    },
    {
      "cell_type": "markdown",
      "metadata": {
        "id": "IxxOg3jO7FrM"
      },
      "source": [
        "## For US"
      ]
    },
    {
      "cell_type": "code",
      "metadata": {
        "colab": {
          "base_uri": "https://localhost:8080/",
          "height": 390
        },
        "id": "vVD5sSMNzkYk",
        "outputId": "8cb9f367-c228-4493-b01c-d09b761bf1fe"
      },
      "source": [
        "#Most number of deaths\n",
        "ud = df[df['Country/Region'] == \"US\"]\n",
        "gud = ud.groupby('Province/State')\n",
        "sum_us = gud.sum('Deaths')\n",
        "up_deaths = sum_us.sort_values(by=['Deaths'], ascending = False)\n",
        "up_deaths.head(10)"
      ],
      "execution_count": 91,
      "outputs": [
        {
          "output_type": "execute_result",
          "data": {
            "text/html": [
              "<div>\n",
              "<style scoped>\n",
              "    .dataframe tbody tr th:only-of-type {\n",
              "        vertical-align: middle;\n",
              "    }\n",
              "\n",
              "    .dataframe tbody tr th {\n",
              "        vertical-align: top;\n",
              "    }\n",
              "\n",
              "    .dataframe thead th {\n",
              "        text-align: right;\n",
              "    }\n",
              "</style>\n",
              "<table border=\"1\" class=\"dataframe\">\n",
              "  <thead>\n",
              "    <tr style=\"text-align: right;\">\n",
              "      <th></th>\n",
              "      <th>SNo</th>\n",
              "      <th>Confirmed</th>\n",
              "      <th>Deaths</th>\n",
              "      <th>Recovered</th>\n",
              "    </tr>\n",
              "    <tr>\n",
              "      <th>Province/State</th>\n",
              "      <th></th>\n",
              "      <th></th>\n",
              "      <th></th>\n",
              "      <th></th>\n",
              "    </tr>\n",
              "  </thead>\n",
              "  <tbody>\n",
              "    <tr>\n",
              "      <th>New York</th>\n",
              "      <td>37724933</td>\n",
              "      <td>204886336.0</td>\n",
              "      <td>10888511.0</td>\n",
              "      <td>0.0</td>\n",
              "    </tr>\n",
              "    <tr>\n",
              "      <th>California</th>\n",
              "      <td>37648885</td>\n",
              "      <td>360363199.0</td>\n",
              "      <td>5358608.0</td>\n",
              "      <td>40.0</td>\n",
              "    </tr>\n",
              "    <tr>\n",
              "      <th>Texas</th>\n",
              "      <td>37769945</td>\n",
              "      <td>294436008.0</td>\n",
              "      <td>5072817.0</td>\n",
              "      <td>0.0</td>\n",
              "    </tr>\n",
              "    <tr>\n",
              "      <th>New Jersey</th>\n",
              "      <td>37724344</td>\n",
              "      <td>98775452.0</td>\n",
              "      <td>5054435.0</td>\n",
              "      <td>2.0</td>\n",
              "    </tr>\n",
              "    <tr>\n",
              "      <th>Florida</th>\n",
              "      <td>37665975</td>\n",
              "      <td>235208135.0</td>\n",
              "      <td>4153905.0</td>\n",
              "      <td>0.0</td>\n",
              "    </tr>\n",
              "    <tr>\n",
              "      <th>Illinois</th>\n",
              "      <td>37685783</td>\n",
              "      <td>145944278.0</td>\n",
              "      <td>3412248.0</td>\n",
              "      <td>16.0</td>\n",
              "    </tr>\n",
              "    <tr>\n",
              "      <th>Pennsylvania</th>\n",
              "      <td>37740024</td>\n",
              "      <td>94899462.0</td>\n",
              "      <td>3191622.0</td>\n",
              "      <td>0.0</td>\n",
              "    </tr>\n",
              "    <tr>\n",
              "      <th>Massachusetts</th>\n",
              "      <td>37710778</td>\n",
              "      <td>66637242.0</td>\n",
              "      <td>3057465.0</td>\n",
              "      <td>8.0</td>\n",
              "    </tr>\n",
              "    <tr>\n",
              "      <th>Michigan</th>\n",
              "      <td>37714672</td>\n",
              "      <td>77041280.0</td>\n",
              "      <td>2720980.0</td>\n",
              "      <td>5.0</td>\n",
              "    </tr>\n",
              "    <tr>\n",
              "      <th>Ohio</th>\n",
              "      <td>37734327</td>\n",
              "      <td>95345599.0</td>\n",
              "      <td>2213309.0</td>\n",
              "      <td>0.0</td>\n",
              "    </tr>\n",
              "  </tbody>\n",
              "</table>\n",
              "</div>"
            ],
            "text/plain": [
              "                     SNo    Confirmed      Deaths  Recovered\n",
              "Province/State                                              \n",
              "New York        37724933  204886336.0  10888511.0        0.0\n",
              "California      37648885  360363199.0   5358608.0       40.0\n",
              "Texas           37769945  294436008.0   5072817.0        0.0\n",
              "New Jersey      37724344   98775452.0   5054435.0        2.0\n",
              "Florida         37665975  235208135.0   4153905.0        0.0\n",
              "Illinois        37685783  145944278.0   3412248.0       16.0\n",
              "Pennsylvania    37740024   94899462.0   3191622.0        0.0\n",
              "Massachusetts   37710778   66637242.0   3057465.0        8.0\n",
              "Michigan        37714672   77041280.0   2720980.0        5.0\n",
              "Ohio            37734327   95345599.0   2213309.0        0.0"
            ]
          },
          "metadata": {
            "tags": []
          },
          "execution_count": 91
        }
      ]
    },
    {
      "cell_type": "code",
      "metadata": {
        "colab": {
          "base_uri": "https://localhost:8080/",
          "height": 390
        },
        "id": "ASn95C0M4izr",
        "outputId": "ed667017-1836-4e9c-a9cb-15ec7f62dff7"
      },
      "source": [
        "#Most number of Confirmed cases\n",
        "sum_us = gud.sum('Confirmed')\n",
        "up_confirmed = sum_us.sort_values(by=['Confirmed'], ascending = False)\n",
        "up_confirmed.head(10)"
      ],
      "execution_count": 92,
      "outputs": [
        {
          "output_type": "execute_result",
          "data": {
            "text/html": [
              "<div>\n",
              "<style scoped>\n",
              "    .dataframe tbody tr th:only-of-type {\n",
              "        vertical-align: middle;\n",
              "    }\n",
              "\n",
              "    .dataframe tbody tr th {\n",
              "        vertical-align: top;\n",
              "    }\n",
              "\n",
              "    .dataframe thead th {\n",
              "        text-align: right;\n",
              "    }\n",
              "</style>\n",
              "<table border=\"1\" class=\"dataframe\">\n",
              "  <thead>\n",
              "    <tr style=\"text-align: right;\">\n",
              "      <th></th>\n",
              "      <th>SNo</th>\n",
              "      <th>Confirmed</th>\n",
              "      <th>Deaths</th>\n",
              "      <th>Recovered</th>\n",
              "    </tr>\n",
              "    <tr>\n",
              "      <th>Province/State</th>\n",
              "      <th></th>\n",
              "      <th></th>\n",
              "      <th></th>\n",
              "      <th></th>\n",
              "    </tr>\n",
              "  </thead>\n",
              "  <tbody>\n",
              "    <tr>\n",
              "      <th>California</th>\n",
              "      <td>37648885</td>\n",
              "      <td>360363199.0</td>\n",
              "      <td>5358608.0</td>\n",
              "      <td>40.0</td>\n",
              "    </tr>\n",
              "    <tr>\n",
              "      <th>Texas</th>\n",
              "      <td>37769945</td>\n",
              "      <td>294436008.0</td>\n",
              "      <td>5072817.0</td>\n",
              "      <td>0.0</td>\n",
              "    </tr>\n",
              "    <tr>\n",
              "      <th>Florida</th>\n",
              "      <td>37665975</td>\n",
              "      <td>235208135.0</td>\n",
              "      <td>4153905.0</td>\n",
              "      <td>0.0</td>\n",
              "    </tr>\n",
              "    <tr>\n",
              "      <th>New York</th>\n",
              "      <td>37724933</td>\n",
              "      <td>204886336.0</td>\n",
              "      <td>10888511.0</td>\n",
              "      <td>0.0</td>\n",
              "    </tr>\n",
              "    <tr>\n",
              "      <th>Illinois</th>\n",
              "      <td>37685783</td>\n",
              "      <td>145944278.0</td>\n",
              "      <td>3412248.0</td>\n",
              "      <td>16.0</td>\n",
              "    </tr>\n",
              "    <tr>\n",
              "      <th>Georgia</th>\n",
              "      <td>37669928</td>\n",
              "      <td>115385674.0</td>\n",
              "      <td>2208651.0</td>\n",
              "      <td>0.0</td>\n",
              "    </tr>\n",
              "    <tr>\n",
              "      <th>New Jersey</th>\n",
              "      <td>37724344</td>\n",
              "      <td>98775452.0</td>\n",
              "      <td>5054435.0</td>\n",
              "      <td>2.0</td>\n",
              "    </tr>\n",
              "    <tr>\n",
              "      <th>Ohio</th>\n",
              "      <td>37734327</td>\n",
              "      <td>95345599.0</td>\n",
              "      <td>2213309.0</td>\n",
              "      <td>0.0</td>\n",
              "    </tr>\n",
              "    <tr>\n",
              "      <th>Pennsylvania</th>\n",
              "      <td>37740024</td>\n",
              "      <td>94899462.0</td>\n",
              "      <td>3191622.0</td>\n",
              "      <td>0.0</td>\n",
              "    </tr>\n",
              "    <tr>\n",
              "      <th>Arizona</th>\n",
              "      <td>37637514</td>\n",
              "      <td>88899907.0</td>\n",
              "      <td>1789492.0</td>\n",
              "      <td>8.0</td>\n",
              "    </tr>\n",
              "  </tbody>\n",
              "</table>\n",
              "</div>"
            ],
            "text/plain": [
              "                     SNo    Confirmed      Deaths  Recovered\n",
              "Province/State                                              \n",
              "California      37648885  360363199.0   5358608.0       40.0\n",
              "Texas           37769945  294436008.0   5072817.0        0.0\n",
              "Florida         37665975  235208135.0   4153905.0        0.0\n",
              "New York        37724933  204886336.0  10888511.0        0.0\n",
              "Illinois        37685783  145944278.0   3412248.0       16.0\n",
              "Georgia         37669928  115385674.0   2208651.0        0.0\n",
              "New Jersey      37724344   98775452.0   5054435.0        2.0\n",
              "Ohio            37734327   95345599.0   2213309.0        0.0\n",
              "Pennsylvania    37740024   94899462.0   3191622.0        0.0\n",
              "Arizona         37637514   88899907.0   1789492.0        8.0"
            ]
          },
          "metadata": {
            "tags": []
          },
          "execution_count": 92
        }
      ]
    },
    {
      "cell_type": "code",
      "metadata": {
        "colab": {
          "base_uri": "https://localhost:8080/",
          "height": 390
        },
        "id": "TMjrW7Er4jKf",
        "outputId": "fc025153-7902-4048-97aa-abd7a6cb154d"
      },
      "source": [
        "#Most number of Recovered Cases\n",
        "sum_us = gud.sum('Recovered')\n",
        "up_recovered = sum_us.sort_values(by=['Recovered'], ascending = False)\n",
        "up_recovered.head(10)"
      ],
      "execution_count": 93,
      "outputs": [
        {
          "output_type": "execute_result",
          "data": {
            "text/html": [
              "<div>\n",
              "<style scoped>\n",
              "    .dataframe tbody tr th:only-of-type {\n",
              "        vertical-align: middle;\n",
              "    }\n",
              "\n",
              "    .dataframe tbody tr th {\n",
              "        vertical-align: top;\n",
              "    }\n",
              "\n",
              "    .dataframe thead th {\n",
              "        text-align: right;\n",
              "    }\n",
              "</style>\n",
              "<table border=\"1\" class=\"dataframe\">\n",
              "  <thead>\n",
              "    <tr style=\"text-align: right;\">\n",
              "      <th></th>\n",
              "      <th>SNo</th>\n",
              "      <th>Confirmed</th>\n",
              "      <th>Deaths</th>\n",
              "      <th>Recovered</th>\n",
              "    </tr>\n",
              "    <tr>\n",
              "      <th>Province/State</th>\n",
              "      <th></th>\n",
              "      <th></th>\n",
              "      <th></th>\n",
              "      <th></th>\n",
              "    </tr>\n",
              "  </thead>\n",
              "  <tbody>\n",
              "    <tr>\n",
              "      <th>Chicago, IL</th>\n",
              "      <td>48622</td>\n",
              "      <td>61.0</td>\n",
              "      <td>0.0</td>\n",
              "      <td>44.0</td>\n",
              "    </tr>\n",
              "    <tr>\n",
              "      <th>California</th>\n",
              "      <td>37648885</td>\n",
              "      <td>360363199.0</td>\n",
              "      <td>5358608.0</td>\n",
              "      <td>40.0</td>\n",
              "    </tr>\n",
              "    <tr>\n",
              "      <th>Seattle, WA</th>\n",
              "      <td>49127</td>\n",
              "      <td>43.0</td>\n",
              "      <td>2.0</td>\n",
              "      <td>22.0</td>\n",
              "    </tr>\n",
              "    <tr>\n",
              "      <th>San Diego County, CA</th>\n",
              "      <td>69323</td>\n",
              "      <td>59.0</td>\n",
              "      <td>0.0</td>\n",
              "      <td>18.0</td>\n",
              "    </tr>\n",
              "    <tr>\n",
              "      <th>Cook County, IL</th>\n",
              "      <td>28994</td>\n",
              "      <td>42.0</td>\n",
              "      <td>0.0</td>\n",
              "      <td>16.0</td>\n",
              "    </tr>\n",
              "    <tr>\n",
              "      <th>Illinois</th>\n",
              "      <td>37685783</td>\n",
              "      <td>145944278.0</td>\n",
              "      <td>3412248.0</td>\n",
              "      <td>16.0</td>\n",
              "    </tr>\n",
              "    <tr>\n",
              "      <th>Santa Clara, CA</th>\n",
              "      <td>65269</td>\n",
              "      <td>131.0</td>\n",
              "      <td>0.0</td>\n",
              "      <td>15.0</td>\n",
              "    </tr>\n",
              "    <tr>\n",
              "      <th>Tempe, AZ</th>\n",
              "      <td>66274</td>\n",
              "      <td>35.0</td>\n",
              "      <td>0.0</td>\n",
              "      <td>11.0</td>\n",
              "    </tr>\n",
              "    <tr>\n",
              "      <th>Massachusetts</th>\n",
              "      <td>37710778</td>\n",
              "      <td>66637242.0</td>\n",
              "      <td>3057465.0</td>\n",
              "      <td>8.0</td>\n",
              "    </tr>\n",
              "    <tr>\n",
              "      <th>Washington</th>\n",
              "      <td>37789908</td>\n",
              "      <td>39225068.0</td>\n",
              "      <td>733945.0</td>\n",
              "      <td>8.0</td>\n",
              "    </tr>\n",
              "  </tbody>\n",
              "</table>\n",
              "</div>"
            ],
            "text/plain": [
              "                           SNo    Confirmed     Deaths  Recovered\n",
              "Province/State                                                   \n",
              "Chicago, IL              48622         61.0        0.0       44.0\n",
              "California            37648885  360363199.0  5358608.0       40.0\n",
              "Seattle, WA              49127         43.0        2.0       22.0\n",
              "San Diego County, CA     69323         59.0        0.0       18.0\n",
              "Cook County, IL          28994         42.0        0.0       16.0\n",
              "Illinois              37685783  145944278.0  3412248.0       16.0\n",
              "Santa Clara, CA          65269        131.0        0.0       15.0\n",
              "Tempe, AZ                66274         35.0        0.0       11.0\n",
              "Massachusetts         37710778   66637242.0  3057465.0        8.0\n",
              "Washington            37789908   39225068.0   733945.0        8.0"
            ]
          },
          "metadata": {
            "tags": []
          },
          "execution_count": 93
        }
      ]
    },
    {
      "cell_type": "markdown",
      "metadata": {
        "id": "RSuK0BkB7pGY"
      },
      "source": [
        "## For Brazil"
      ]
    },
    {
      "cell_type": "code",
      "metadata": {
        "colab": {
          "base_uri": "https://localhost:8080/",
          "height": 390
        },
        "id": "bMRQ9iZV7oID",
        "outputId": "f9b5de67-3e6e-41da-aa4c-2e2afa339e18"
      },
      "source": [
        "#Most number of deaths\n",
        "bd = df[df['Country/Region'] == \"Brazil\"]\n",
        "gbd = bd.groupby('Province/State')\n",
        "sum_br = gbd.sum('Deaths')\n",
        "bp_deaths = sum_br.sort_values(by=['Deaths'], ascending = False)\n",
        "bp_deaths.head(10)"
      ],
      "execution_count": 94,
      "outputs": [
        {
          "output_type": "execute_result",
          "data": {
            "text/html": [
              "<div>\n",
              "<style scoped>\n",
              "    .dataframe tbody tr th:only-of-type {\n",
              "        vertical-align: middle;\n",
              "    }\n",
              "\n",
              "    .dataframe tbody tr th {\n",
              "        vertical-align: top;\n",
              "    }\n",
              "\n",
              "    .dataframe thead th {\n",
              "        text-align: right;\n",
              "    }\n",
              "</style>\n",
              "<table border=\"1\" class=\"dataframe\">\n",
              "  <thead>\n",
              "    <tr style=\"text-align: right;\">\n",
              "      <th></th>\n",
              "      <th>SNo</th>\n",
              "      <th>Confirmed</th>\n",
              "      <th>Deaths</th>\n",
              "      <th>Recovered</th>\n",
              "    </tr>\n",
              "    <tr>\n",
              "      <th>Province/State</th>\n",
              "      <th></th>\n",
              "      <th></th>\n",
              "      <th></th>\n",
              "      <th></th>\n",
              "    </tr>\n",
              "  </thead>\n",
              "  <tbody>\n",
              "    <tr>\n",
              "      <th>Sao Paulo</th>\n",
              "      <td>36675089</td>\n",
              "      <td>279368429.0</td>\n",
              "      <td>9651617.0</td>\n",
              "      <td>232197497.0</td>\n",
              "    </tr>\n",
              "    <tr>\n",
              "      <th>Rio de Janeiro</th>\n",
              "      <td>36668405</td>\n",
              "      <td>81618851.0</td>\n",
              "      <td>5335936.0</td>\n",
              "      <td>73533562.0</td>\n",
              "    </tr>\n",
              "    <tr>\n",
              "      <th>Ceara</th>\n",
              "      <td>36575675</td>\n",
              "      <td>68514032.0</td>\n",
              "      <td>2391702.0</td>\n",
              "      <td>55406133.0</td>\n",
              "    </tr>\n",
              "    <tr>\n",
              "      <th>Pernambuco</th>\n",
              "      <td>36659949</td>\n",
              "      <td>42987381.0</td>\n",
              "      <td>2198059.0</td>\n",
              "      <td>35768498.0</td>\n",
              "    </tr>\n",
              "    <tr>\n",
              "      <th>Minas Gerais</th>\n",
              "      <td>36636028</td>\n",
              "      <td>94650740.0</td>\n",
              "      <td>2142423.0</td>\n",
              "      <td>83403303.0</td>\n",
              "    </tr>\n",
              "    <tr>\n",
              "      <th>Para</th>\n",
              "      <td>36657993</td>\n",
              "      <td>61655247.0</td>\n",
              "      <td>1772550.0</td>\n",
              "      <td>56574259.0</td>\n",
              "    </tr>\n",
              "    <tr>\n",
              "      <th>Bahia</th>\n",
              "      <td>36563817</td>\n",
              "      <td>89579067.0</td>\n",
              "      <td>1767392.0</td>\n",
              "      <td>83981129.0</td>\n",
              "    </tr>\n",
              "    <tr>\n",
              "      <th>Rio Grande do Sul</th>\n",
              "      <td>36668121</td>\n",
              "      <td>68608980.0</td>\n",
              "      <td>1468511.0</td>\n",
              "      <td>63711496.0</td>\n",
              "    </tr>\n",
              "    <tr>\n",
              "      <th>Parana</th>\n",
              "      <td>36658561</td>\n",
              "      <td>65404101.0</td>\n",
              "      <td>1363213.0</td>\n",
              "      <td>45987495.0</td>\n",
              "    </tr>\n",
              "    <tr>\n",
              "      <th>Amazonas</th>\n",
              "      <td>36554274</td>\n",
              "      <td>42863947.0</td>\n",
              "      <td>1310445.0</td>\n",
              "      <td>35350761.0</td>\n",
              "    </tr>\n",
              "  </tbody>\n",
              "</table>\n",
              "</div>"
            ],
            "text/plain": [
              "                        SNo    Confirmed     Deaths    Recovered\n",
              "Province/State                                                  \n",
              "Sao Paulo          36675089  279368429.0  9651617.0  232197497.0\n",
              "Rio de Janeiro     36668405   81618851.0  5335936.0   73533562.0\n",
              "Ceara              36575675   68514032.0  2391702.0   55406133.0\n",
              "Pernambuco         36659949   42987381.0  2198059.0   35768498.0\n",
              "Minas Gerais       36636028   94650740.0  2142423.0   83403303.0\n",
              "Para               36657993   61655247.0  1772550.0   56574259.0\n",
              "Bahia              36563817   89579067.0  1767392.0   83981129.0\n",
              "Rio Grande do Sul  36668121   68608980.0  1468511.0   63711496.0\n",
              "Parana             36658561   65404101.0  1363213.0   45987495.0\n",
              "Amazonas           36554274   42863947.0  1310445.0   35350761.0"
            ]
          },
          "metadata": {
            "tags": []
          },
          "execution_count": 94
        }
      ]
    },
    {
      "cell_type": "code",
      "metadata": {
        "colab": {
          "base_uri": "https://localhost:8080/",
          "height": 390
        },
        "id": "HB9f3-8x821R",
        "outputId": "2e684327-c547-455f-a651-6d2d07c38060"
      },
      "source": [
        "#Most confirmed cases\n",
        "sum_br = gbd.sum('Confirmed')\n",
        "bp_confirmed = sum_br.sort_values(by=['Confirmed'], ascending = False)\n",
        "bp_confirmed.head(10)"
      ],
      "execution_count": 95,
      "outputs": [
        {
          "output_type": "execute_result",
          "data": {
            "text/html": [
              "<div>\n",
              "<style scoped>\n",
              "    .dataframe tbody tr th:only-of-type {\n",
              "        vertical-align: middle;\n",
              "    }\n",
              "\n",
              "    .dataframe tbody tr th {\n",
              "        vertical-align: top;\n",
              "    }\n",
              "\n",
              "    .dataframe thead th {\n",
              "        text-align: right;\n",
              "    }\n",
              "</style>\n",
              "<table border=\"1\" class=\"dataframe\">\n",
              "  <thead>\n",
              "    <tr style=\"text-align: right;\">\n",
              "      <th></th>\n",
              "      <th>SNo</th>\n",
              "      <th>Confirmed</th>\n",
              "      <th>Deaths</th>\n",
              "      <th>Recovered</th>\n",
              "    </tr>\n",
              "    <tr>\n",
              "      <th>Province/State</th>\n",
              "      <th></th>\n",
              "      <th></th>\n",
              "      <th></th>\n",
              "      <th></th>\n",
              "    </tr>\n",
              "  </thead>\n",
              "  <tbody>\n",
              "    <tr>\n",
              "      <th>Sao Paulo</th>\n",
              "      <td>36675089</td>\n",
              "      <td>279368429.0</td>\n",
              "      <td>9651617.0</td>\n",
              "      <td>232197497.0</td>\n",
              "    </tr>\n",
              "    <tr>\n",
              "      <th>Minas Gerais</th>\n",
              "      <td>36636028</td>\n",
              "      <td>94650740.0</td>\n",
              "      <td>2142423.0</td>\n",
              "      <td>83403303.0</td>\n",
              "    </tr>\n",
              "    <tr>\n",
              "      <th>Bahia</th>\n",
              "      <td>36563817</td>\n",
              "      <td>89579067.0</td>\n",
              "      <td>1767392.0</td>\n",
              "      <td>83981129.0</td>\n",
              "    </tr>\n",
              "    <tr>\n",
              "      <th>Rio de Janeiro</th>\n",
              "      <td>36668405</td>\n",
              "      <td>81618851.0</td>\n",
              "      <td>5335936.0</td>\n",
              "      <td>73533562.0</td>\n",
              "    </tr>\n",
              "    <tr>\n",
              "      <th>Santa Catarina</th>\n",
              "      <td>36674529</td>\n",
              "      <td>75150208.0</td>\n",
              "      <td>856137.0</td>\n",
              "      <td>69820814.0</td>\n",
              "    </tr>\n",
              "    <tr>\n",
              "      <th>Rio Grande do Sul</th>\n",
              "      <td>36668121</td>\n",
              "      <td>68608980.0</td>\n",
              "      <td>1468511.0</td>\n",
              "      <td>63711496.0</td>\n",
              "    </tr>\n",
              "    <tr>\n",
              "      <th>Ceara</th>\n",
              "      <td>36575675</td>\n",
              "      <td>68514032.0</td>\n",
              "      <td>2391702.0</td>\n",
              "      <td>55406133.0</td>\n",
              "    </tr>\n",
              "    <tr>\n",
              "      <th>Parana</th>\n",
              "      <td>36658561</td>\n",
              "      <td>65404101.0</td>\n",
              "      <td>1363213.0</td>\n",
              "      <td>45987495.0</td>\n",
              "    </tr>\n",
              "    <tr>\n",
              "      <th>Para</th>\n",
              "      <td>36657993</td>\n",
              "      <td>61655247.0</td>\n",
              "      <td>1772550.0</td>\n",
              "      <td>56574259.0</td>\n",
              "    </tr>\n",
              "    <tr>\n",
              "      <th>Goias</th>\n",
              "      <td>36594570</td>\n",
              "      <td>54698625.0</td>\n",
              "      <td>1218360.0</td>\n",
              "      <td>51201427.0</td>\n",
              "    </tr>\n",
              "  </tbody>\n",
              "</table>\n",
              "</div>"
            ],
            "text/plain": [
              "                        SNo    Confirmed     Deaths    Recovered\n",
              "Province/State                                                  \n",
              "Sao Paulo          36675089  279368429.0  9651617.0  232197497.0\n",
              "Minas Gerais       36636028   94650740.0  2142423.0   83403303.0\n",
              "Bahia              36563817   89579067.0  1767392.0   83981129.0\n",
              "Rio de Janeiro     36668405   81618851.0  5335936.0   73533562.0\n",
              "Santa Catarina     36674529   75150208.0   856137.0   69820814.0\n",
              "Rio Grande do Sul  36668121   68608980.0  1468511.0   63711496.0\n",
              "Ceara              36575675   68514032.0  2391702.0   55406133.0\n",
              "Parana             36658561   65404101.0  1363213.0   45987495.0\n",
              "Para               36657993   61655247.0  1772550.0   56574259.0\n",
              "Goias              36594570   54698625.0  1218360.0   51201427.0"
            ]
          },
          "metadata": {
            "tags": []
          },
          "execution_count": 95
        }
      ]
    },
    {
      "cell_type": "code",
      "metadata": {
        "colab": {
          "base_uri": "https://localhost:8080/",
          "height": 390
        },
        "id": "4xokBdQZ83Hi",
        "outputId": "f69d7e69-8b89-4907-e42d-952ba70ea7b7"
      },
      "source": [
        "#Most recovered cases\n",
        "sum_br = gbd.sum('Recovered')\n",
        "bp_recoverd = sum_br.sort_values(by=['Recovered'], ascending = False)\n",
        "bp_recoverd.head(10)"
      ],
      "execution_count": 96,
      "outputs": [
        {
          "output_type": "execute_result",
          "data": {
            "text/html": [
              "<div>\n",
              "<style scoped>\n",
              "    .dataframe tbody tr th:only-of-type {\n",
              "        vertical-align: middle;\n",
              "    }\n",
              "\n",
              "    .dataframe tbody tr th {\n",
              "        vertical-align: top;\n",
              "    }\n",
              "\n",
              "    .dataframe thead th {\n",
              "        text-align: right;\n",
              "    }\n",
              "</style>\n",
              "<table border=\"1\" class=\"dataframe\">\n",
              "  <thead>\n",
              "    <tr style=\"text-align: right;\">\n",
              "      <th></th>\n",
              "      <th>SNo</th>\n",
              "      <th>Confirmed</th>\n",
              "      <th>Deaths</th>\n",
              "      <th>Recovered</th>\n",
              "    </tr>\n",
              "    <tr>\n",
              "      <th>Province/State</th>\n",
              "      <th></th>\n",
              "      <th></th>\n",
              "      <th></th>\n",
              "      <th></th>\n",
              "    </tr>\n",
              "  </thead>\n",
              "  <tbody>\n",
              "    <tr>\n",
              "      <th>Sao Paulo</th>\n",
              "      <td>36675089</td>\n",
              "      <td>279368429.0</td>\n",
              "      <td>9651617.0</td>\n",
              "      <td>232197497.0</td>\n",
              "    </tr>\n",
              "    <tr>\n",
              "      <th>Bahia</th>\n",
              "      <td>36563817</td>\n",
              "      <td>89579067.0</td>\n",
              "      <td>1767392.0</td>\n",
              "      <td>83981129.0</td>\n",
              "    </tr>\n",
              "    <tr>\n",
              "      <th>Minas Gerais</th>\n",
              "      <td>36636028</td>\n",
              "      <td>94650740.0</td>\n",
              "      <td>2142423.0</td>\n",
              "      <td>83403303.0</td>\n",
              "    </tr>\n",
              "    <tr>\n",
              "      <th>Rio de Janeiro</th>\n",
              "      <td>36668405</td>\n",
              "      <td>81618851.0</td>\n",
              "      <td>5335936.0</td>\n",
              "      <td>73533562.0</td>\n",
              "    </tr>\n",
              "    <tr>\n",
              "      <th>Santa Catarina</th>\n",
              "      <td>36674529</td>\n",
              "      <td>75150208.0</td>\n",
              "      <td>856137.0</td>\n",
              "      <td>69820814.0</td>\n",
              "    </tr>\n",
              "    <tr>\n",
              "      <th>Rio Grande do Sul</th>\n",
              "      <td>36668121</td>\n",
              "      <td>68608980.0</td>\n",
              "      <td>1468511.0</td>\n",
              "      <td>63711496.0</td>\n",
              "    </tr>\n",
              "    <tr>\n",
              "      <th>Para</th>\n",
              "      <td>36657993</td>\n",
              "      <td>61655247.0</td>\n",
              "      <td>1772550.0</td>\n",
              "      <td>56574259.0</td>\n",
              "    </tr>\n",
              "    <tr>\n",
              "      <th>Ceara</th>\n",
              "      <td>36575675</td>\n",
              "      <td>68514032.0</td>\n",
              "      <td>2391702.0</td>\n",
              "      <td>55406133.0</td>\n",
              "    </tr>\n",
              "    <tr>\n",
              "      <th>Goias</th>\n",
              "      <td>36594570</td>\n",
              "      <td>54698625.0</td>\n",
              "      <td>1218360.0</td>\n",
              "      <td>51201427.0</td>\n",
              "    </tr>\n",
              "    <tr>\n",
              "      <th>Parana</th>\n",
              "      <td>36658561</td>\n",
              "      <td>65404101.0</td>\n",
              "      <td>1363213.0</td>\n",
              "      <td>45987495.0</td>\n",
              "    </tr>\n",
              "  </tbody>\n",
              "</table>\n",
              "</div>"
            ],
            "text/plain": [
              "                        SNo    Confirmed     Deaths    Recovered\n",
              "Province/State                                                  \n",
              "Sao Paulo          36675089  279368429.0  9651617.0  232197497.0\n",
              "Bahia              36563817   89579067.0  1767392.0   83981129.0\n",
              "Minas Gerais       36636028   94650740.0  2142423.0   83403303.0\n",
              "Rio de Janeiro     36668405   81618851.0  5335936.0   73533562.0\n",
              "Santa Catarina     36674529   75150208.0   856137.0   69820814.0\n",
              "Rio Grande do Sul  36668121   68608980.0  1468511.0   63711496.0\n",
              "Para               36657993   61655247.0  1772550.0   56574259.0\n",
              "Ceara              36575675   68514032.0  2391702.0   55406133.0\n",
              "Goias              36594570   54698625.0  1218360.0   51201427.0\n",
              "Parana             36658561   65404101.0  1363213.0   45987495.0"
            ]
          },
          "metadata": {
            "tags": []
          },
          "execution_count": 96
        }
      ]
    },
    {
      "cell_type": "markdown",
      "metadata": {
        "id": "Ijg1gLXj9rox"
      },
      "source": [
        "## For India"
      ]
    },
    {
      "cell_type": "code",
      "metadata": {
        "colab": {
          "base_uri": "https://localhost:8080/",
          "height": 390
        },
        "id": "4zA1WHy_9twW",
        "outputId": "3e864d3d-48d3-4647-e684-6277780c4192"
      },
      "source": [
        "#Most number of deaths\n",
        "id = df[df['Country/Region'] == \"India\"]\n",
        "gid = id.groupby('Province/State')\n",
        "sum_in = gid.sum('Deaths')\n",
        "ip_deaths = sum_in.sort_values(by=['Deaths'], ascending = False)\n",
        "ip_deaths.head(10)"
      ],
      "execution_count": 97,
      "outputs": [
        {
          "output_type": "execute_result",
          "data": {
            "text/html": [
              "<div>\n",
              "<style scoped>\n",
              "    .dataframe tbody tr th:only-of-type {\n",
              "        vertical-align: middle;\n",
              "    }\n",
              "\n",
              "    .dataframe tbody tr th {\n",
              "        vertical-align: top;\n",
              "    }\n",
              "\n",
              "    .dataframe thead th {\n",
              "        text-align: right;\n",
              "    }\n",
              "</style>\n",
              "<table border=\"1\" class=\"dataframe\">\n",
              "  <thead>\n",
              "    <tr style=\"text-align: right;\">\n",
              "      <th></th>\n",
              "      <th>SNo</th>\n",
              "      <th>Confirmed</th>\n",
              "      <th>Deaths</th>\n",
              "      <th>Recovered</th>\n",
              "    </tr>\n",
              "    <tr>\n",
              "      <th>Province/State</th>\n",
              "      <th></th>\n",
              "      <th></th>\n",
              "      <th></th>\n",
              "      <th></th>\n",
              "    </tr>\n",
              "  </thead>\n",
              "  <tbody>\n",
              "    <tr>\n",
              "      <th>Maharashtra</th>\n",
              "      <td>35950825</td>\n",
              "      <td>340363684.0</td>\n",
              "      <td>9117030.0</td>\n",
              "      <td>299958534.0</td>\n",
              "    </tr>\n",
              "    <tr>\n",
              "      <th>Tamil Nadu</th>\n",
              "      <td>36003779</td>\n",
              "      <td>149205740.0</td>\n",
              "      <td>2276698.0</td>\n",
              "      <td>139486288.0</td>\n",
              "    </tr>\n",
              "    <tr>\n",
              "      <th>Karnataka</th>\n",
              "      <td>35936910</td>\n",
              "      <td>154517083.0</td>\n",
              "      <td>2126982.0</td>\n",
              "      <td>140790572.0</td>\n",
              "    </tr>\n",
              "    <tr>\n",
              "      <th>Delhi</th>\n",
              "      <td>35908143</td>\n",
              "      <td>96761076.0</td>\n",
              "      <td>1780439.0</td>\n",
              "      <td>90193900.0</td>\n",
              "    </tr>\n",
              "    <tr>\n",
              "      <th>West Bengal</th>\n",
              "      <td>36022724</td>\n",
              "      <td>83397236.0</td>\n",
              "      <td>1527008.0</td>\n",
              "      <td>76963046.0</td>\n",
              "    </tr>\n",
              "    <tr>\n",
              "      <th>Uttar Pradesh</th>\n",
              "      <td>36015460</td>\n",
              "      <td>97905298.0</td>\n",
              "      <td>1437894.0</td>\n",
              "      <td>89721893.0</td>\n",
              "    </tr>\n",
              "    <tr>\n",
              "      <th>Andhra Pradesh</th>\n",
              "      <td>35881101</td>\n",
              "      <td>156307807.0</td>\n",
              "      <td>1290094.0</td>\n",
              "      <td>146826794.0</td>\n",
              "    </tr>\n",
              "    <tr>\n",
              "      <th>Gujarat</th>\n",
              "      <td>35921323</td>\n",
              "      <td>40694517.0</td>\n",
              "      <td>893107.0</td>\n",
              "      <td>36892518.0</td>\n",
              "    </tr>\n",
              "    <tr>\n",
              "      <th>Punjab</th>\n",
              "      <td>35982907</td>\n",
              "      <td>27180475.0</td>\n",
              "      <td>849547.0</td>\n",
              "      <td>24549388.0</td>\n",
              "    </tr>\n",
              "    <tr>\n",
              "      <th>Madhya Pradesh</th>\n",
              "      <td>35949247</td>\n",
              "      <td>37301005.0</td>\n",
              "      <td>625085.0</td>\n",
              "      <td>34166006.0</td>\n",
              "    </tr>\n",
              "  </tbody>\n",
              "</table>\n",
              "</div>"
            ],
            "text/plain": [
              "                     SNo    Confirmed     Deaths    Recovered\n",
              "Province/State                                               \n",
              "Maharashtra     35950825  340363684.0  9117030.0  299958534.0\n",
              "Tamil Nadu      36003779  149205740.0  2276698.0  139486288.0\n",
              "Karnataka       35936910  154517083.0  2126982.0  140790572.0\n",
              "Delhi           35908143   96761076.0  1780439.0   90193900.0\n",
              "West Bengal     36022724   83397236.0  1527008.0   76963046.0\n",
              "Uttar Pradesh   36015460   97905298.0  1437894.0   89721893.0\n",
              "Andhra Pradesh  35881101  156307807.0  1290094.0  146826794.0\n",
              "Gujarat         35921323   40694517.0   893107.0   36892518.0\n",
              "Punjab          35982907   27180475.0   849547.0   24549388.0\n",
              "Madhya Pradesh  35949247   37301005.0   625085.0   34166006.0"
            ]
          },
          "metadata": {
            "tags": []
          },
          "execution_count": 97
        }
      ]
    },
    {
      "cell_type": "code",
      "metadata": {
        "colab": {
          "base_uri": "https://localhost:8080/",
          "height": 390
        },
        "id": "dGLzmR_y9t_R",
        "outputId": "630b737b-669a-4b36-aeda-7510d819b819"
      },
      "source": [
        "#Most number of confirmed\n",
        "sum_in = gid.sum('Confirmed')\n",
        "ip_confirmed = sum_in.sort_values(by=['Confirmed'], ascending = False)\n",
        "ip_confirmed.head(10)"
      ],
      "execution_count": 98,
      "outputs": [
        {
          "output_type": "execute_result",
          "data": {
            "text/html": [
              "<div>\n",
              "<style scoped>\n",
              "    .dataframe tbody tr th:only-of-type {\n",
              "        vertical-align: middle;\n",
              "    }\n",
              "\n",
              "    .dataframe tbody tr th {\n",
              "        vertical-align: top;\n",
              "    }\n",
              "\n",
              "    .dataframe thead th {\n",
              "        text-align: right;\n",
              "    }\n",
              "</style>\n",
              "<table border=\"1\" class=\"dataframe\">\n",
              "  <thead>\n",
              "    <tr style=\"text-align: right;\">\n",
              "      <th></th>\n",
              "      <th>SNo</th>\n",
              "      <th>Confirmed</th>\n",
              "      <th>Deaths</th>\n",
              "      <th>Recovered</th>\n",
              "    </tr>\n",
              "    <tr>\n",
              "      <th>Province/State</th>\n",
              "      <th></th>\n",
              "      <th></th>\n",
              "      <th></th>\n",
              "      <th></th>\n",
              "    </tr>\n",
              "  </thead>\n",
              "  <tbody>\n",
              "    <tr>\n",
              "      <th>Maharashtra</th>\n",
              "      <td>35950825</td>\n",
              "      <td>340363684.0</td>\n",
              "      <td>9117030.0</td>\n",
              "      <td>299958534.0</td>\n",
              "    </tr>\n",
              "    <tr>\n",
              "      <th>Andhra Pradesh</th>\n",
              "      <td>35881101</td>\n",
              "      <td>156307807.0</td>\n",
              "      <td>1290094.0</td>\n",
              "      <td>146826794.0</td>\n",
              "    </tr>\n",
              "    <tr>\n",
              "      <th>Karnataka</th>\n",
              "      <td>35936910</td>\n",
              "      <td>154517083.0</td>\n",
              "      <td>2126982.0</td>\n",
              "      <td>140790572.0</td>\n",
              "    </tr>\n",
              "    <tr>\n",
              "      <th>Tamil Nadu</th>\n",
              "      <td>36003779</td>\n",
              "      <td>149205740.0</td>\n",
              "      <td>2276698.0</td>\n",
              "      <td>139486288.0</td>\n",
              "    </tr>\n",
              "    <tr>\n",
              "      <th>Kerala</th>\n",
              "      <td>35937699</td>\n",
              "      <td>105723043.0</td>\n",
              "      <td>409727.0</td>\n",
              "      <td>92777438.0</td>\n",
              "    </tr>\n",
              "    <tr>\n",
              "      <th>Uttar Pradesh</th>\n",
              "      <td>36015460</td>\n",
              "      <td>97905298.0</td>\n",
              "      <td>1437894.0</td>\n",
              "      <td>89721893.0</td>\n",
              "    </tr>\n",
              "    <tr>\n",
              "      <th>Delhi</th>\n",
              "      <td>35908143</td>\n",
              "      <td>96761076.0</td>\n",
              "      <td>1780439.0</td>\n",
              "      <td>90193900.0</td>\n",
              "    </tr>\n",
              "    <tr>\n",
              "      <th>West Bengal</th>\n",
              "      <td>36022724</td>\n",
              "      <td>83397236.0</td>\n",
              "      <td>1527008.0</td>\n",
              "      <td>76963046.0</td>\n",
              "    </tr>\n",
              "    <tr>\n",
              "      <th>Odisha</th>\n",
              "      <td>35972950</td>\n",
              "      <td>54230550.0</td>\n",
              "      <td>280139.0</td>\n",
              "      <td>51140244.0</td>\n",
              "    </tr>\n",
              "    <tr>\n",
              "      <th>Telangana</th>\n",
              "      <td>36004831</td>\n",
              "      <td>49483401.0</td>\n",
              "      <td>288057.0</td>\n",
              "      <td>45535036.0</td>\n",
              "    </tr>\n",
              "  </tbody>\n",
              "</table>\n",
              "</div>"
            ],
            "text/plain": [
              "                     SNo    Confirmed     Deaths    Recovered\n",
              "Province/State                                               \n",
              "Maharashtra     35950825  340363684.0  9117030.0  299958534.0\n",
              "Andhra Pradesh  35881101  156307807.0  1290094.0  146826794.0\n",
              "Karnataka       35936910  154517083.0  2126982.0  140790572.0\n",
              "Tamil Nadu      36003779  149205740.0  2276698.0  139486288.0\n",
              "Kerala          35937699  105723043.0   409727.0   92777438.0\n",
              "Uttar Pradesh   36015460   97905298.0  1437894.0   89721893.0\n",
              "Delhi           35908143   96761076.0  1780439.0   90193900.0\n",
              "West Bengal     36022724   83397236.0  1527008.0   76963046.0\n",
              "Odisha          35972950   54230550.0   280139.0   51140244.0\n",
              "Telangana       36004831   49483401.0   288057.0   45535036.0"
            ]
          },
          "metadata": {
            "tags": []
          },
          "execution_count": 98
        }
      ]
    },
    {
      "cell_type": "code",
      "metadata": {
        "colab": {
          "base_uri": "https://localhost:8080/",
          "height": 390
        },
        "id": "QR-J7ONz9uMZ",
        "outputId": "9bfcb8ea-13b1-4695-ba23-967a819ddff8"
      },
      "source": [
        "#Most number of recovered\n",
        "sum_in = gid.sum('Recovered')\n",
        "ip_recoverd = sum_in.sort_values(by=['Recovered'], ascending = False)\n",
        "ip_recoverd.head(10)"
      ],
      "execution_count": 99,
      "outputs": [
        {
          "output_type": "execute_result",
          "data": {
            "text/html": [
              "<div>\n",
              "<style scoped>\n",
              "    .dataframe tbody tr th:only-of-type {\n",
              "        vertical-align: middle;\n",
              "    }\n",
              "\n",
              "    .dataframe tbody tr th {\n",
              "        vertical-align: top;\n",
              "    }\n",
              "\n",
              "    .dataframe thead th {\n",
              "        text-align: right;\n",
              "    }\n",
              "</style>\n",
              "<table border=\"1\" class=\"dataframe\">\n",
              "  <thead>\n",
              "    <tr style=\"text-align: right;\">\n",
              "      <th></th>\n",
              "      <th>SNo</th>\n",
              "      <th>Confirmed</th>\n",
              "      <th>Deaths</th>\n",
              "      <th>Recovered</th>\n",
              "    </tr>\n",
              "    <tr>\n",
              "      <th>Province/State</th>\n",
              "      <th></th>\n",
              "      <th></th>\n",
              "      <th></th>\n",
              "      <th></th>\n",
              "    </tr>\n",
              "  </thead>\n",
              "  <tbody>\n",
              "    <tr>\n",
              "      <th>Maharashtra</th>\n",
              "      <td>35950825</td>\n",
              "      <td>340363684.0</td>\n",
              "      <td>9117030.0</td>\n",
              "      <td>299958534.0</td>\n",
              "    </tr>\n",
              "    <tr>\n",
              "      <th>Andhra Pradesh</th>\n",
              "      <td>35881101</td>\n",
              "      <td>156307807.0</td>\n",
              "      <td>1290094.0</td>\n",
              "      <td>146826794.0</td>\n",
              "    </tr>\n",
              "    <tr>\n",
              "      <th>Karnataka</th>\n",
              "      <td>35936910</td>\n",
              "      <td>154517083.0</td>\n",
              "      <td>2126982.0</td>\n",
              "      <td>140790572.0</td>\n",
              "    </tr>\n",
              "    <tr>\n",
              "      <th>Tamil Nadu</th>\n",
              "      <td>36003779</td>\n",
              "      <td>149205740.0</td>\n",
              "      <td>2276698.0</td>\n",
              "      <td>139486288.0</td>\n",
              "    </tr>\n",
              "    <tr>\n",
              "      <th>Kerala</th>\n",
              "      <td>35937699</td>\n",
              "      <td>105723043.0</td>\n",
              "      <td>409727.0</td>\n",
              "      <td>92777438.0</td>\n",
              "    </tr>\n",
              "    <tr>\n",
              "      <th>Delhi</th>\n",
              "      <td>35908143</td>\n",
              "      <td>96761076.0</td>\n",
              "      <td>1780439.0</td>\n",
              "      <td>90193900.0</td>\n",
              "    </tr>\n",
              "    <tr>\n",
              "      <th>Uttar Pradesh</th>\n",
              "      <td>36015460</td>\n",
              "      <td>97905298.0</td>\n",
              "      <td>1437894.0</td>\n",
              "      <td>89721893.0</td>\n",
              "    </tr>\n",
              "    <tr>\n",
              "      <th>West Bengal</th>\n",
              "      <td>36022724</td>\n",
              "      <td>83397236.0</td>\n",
              "      <td>1527008.0</td>\n",
              "      <td>76963046.0</td>\n",
              "    </tr>\n",
              "    <tr>\n",
              "      <th>Odisha</th>\n",
              "      <td>35972950</td>\n",
              "      <td>54230550.0</td>\n",
              "      <td>280139.0</td>\n",
              "      <td>51140244.0</td>\n",
              "    </tr>\n",
              "    <tr>\n",
              "      <th>Telangana</th>\n",
              "      <td>36004831</td>\n",
              "      <td>49483401.0</td>\n",
              "      <td>288057.0</td>\n",
              "      <td>45535036.0</td>\n",
              "    </tr>\n",
              "  </tbody>\n",
              "</table>\n",
              "</div>"
            ],
            "text/plain": [
              "                     SNo    Confirmed     Deaths    Recovered\n",
              "Province/State                                               \n",
              "Maharashtra     35950825  340363684.0  9117030.0  299958534.0\n",
              "Andhra Pradesh  35881101  156307807.0  1290094.0  146826794.0\n",
              "Karnataka       35936910  154517083.0  2126982.0  140790572.0\n",
              "Tamil Nadu      36003779  149205740.0  2276698.0  139486288.0\n",
              "Kerala          35937699  105723043.0   409727.0   92777438.0\n",
              "Delhi           35908143   96761076.0  1780439.0   90193900.0\n",
              "Uttar Pradesh   36015460   97905298.0  1437894.0   89721893.0\n",
              "West Bengal     36022724   83397236.0  1527008.0   76963046.0\n",
              "Odisha          35972950   54230550.0   280139.0   51140244.0\n",
              "Telangana       36004831   49483401.0   288057.0   45535036.0"
            ]
          },
          "metadata": {
            "tags": []
          },
          "execution_count": 99
        }
      ]
    },
    {
      "cell_type": "markdown",
      "metadata": {
        "id": "Iz2Gmw3jAhc8"
      },
      "source": [
        "# Bar Charts"
      ]
    },
    {
      "cell_type": "markdown",
      "metadata": {
        "id": "3Q_bTX7jAugE"
      },
      "source": [
        "## For US"
      ]
    },
    {
      "cell_type": "code",
      "metadata": {
        "colab": {
          "base_uri": "https://localhost:8080/",
          "height": 353
        },
        "id": "CObcLzYvAgZc",
        "outputId": "5f4c772c-2707-4b6b-acc3-a62d7cd48d59"
      },
      "source": [
        "#Selecting the top states with most deaths in US\n",
        "top_deaths_us = sum_us.sort_values(by=['Deaths'], ascending = False)\n",
        "top_deaths_us = top_deaths_us[0:10]\n",
        "top_deaths_us = top_deaths_us.reset_index(drop=False)\n",
        "\n",
        "figure(figsize=(17, 6), dpi=65)\n",
        "plt.title(\"Top 10 States With Most Deaths cases in US\")\n",
        "plt.bar(top_deaths_us['Province/State'], top_deaths_us['Deaths'])\n",
        "plt.show()"
      ],
      "execution_count": 100,
      "outputs": [
        {
          "output_type": "display_data",
          "data": {
            "image/png": "[encoded data removed]",
            "text/plain": [
              "<Figure size 1105x390 with 1 Axes>"
            ]
          },
          "metadata": {
            "tags": [],
            "needs_background": "light"
          }
        }
      ]
    },
    {
      "cell_type": "code",
      "metadata": {
        "colab": {
          "base_uri": "https://localhost:8080/",
          "height": 353
        },
        "id": "cGYydOHlCnva",
        "outputId": "66e10f3e-232a-466f-93ae-d17609808eb9"
      },
      "source": [
        "#Selecting the top states with most deaths in China\n",
        "cd = df[df['Country/Region'] == \"Mainland China\"]\n",
        "cud = cd.groupby('Province/State')\n",
        "sum_ch = cud.sum('Deaths')\n",
        "top_deaths_ch = sum_ch.sort_values(by=['Deaths'], ascending = False)\n",
        "top_deaths_ch = top_deaths_ch[0:10]\n",
        "top_deaths_ch = top_deaths_ch.reset_index(drop=False)\n",
        "\n",
        "figure(figsize=(17, 6), dpi=65)\n",
        "plt.title(\"Top 10 States With Most Deaths Cases in China\")\n",
        "plt.bar(top_deaths_ch['Province/State'], top_deaths_ch['Deaths'])\n",
        "plt.show()"
      ],
      "execution_count": 101,
      "outputs": [
        {
          "output_type": "display_data",
          "data": {
            "image/png": "[encoded data removed]",
            "text/plain": [
              "<Figure size 1105x390 with 1 Axes>"
            ]
          },
          "metadata": {
            "tags": [],
            "needs_background": "light"
          }
        }
      ]
    },
    {
      "cell_type": "code",
      "metadata": {
        "colab": {
          "base_uri": "https://localhost:8080/",
          "height": 353
        },
        "id": "XaEuoH5WDa26",
        "outputId": "259881e1-e487-443a-a650-d23f2638fbd1"
      },
      "source": [
        "#Selecting the top states with most recoverd cases in US\n",
        "top_recovered_us = sum_us.sort_values(by=['Recovered'], ascending = False)\n",
        "top_recovered_us = top_recovered_us[0:10]\n",
        "top_recovered_us = top_recovered_us.reset_index(drop=False)\n",
        "\n",
        "figure(figsize=(17, 6), dpi=65)\n",
        "plt.title(\"Top 10 States With Most Deaths cases in US\")\n",
        "plt.bar(top_recovered_us['Province/State'], top_recovered_us['Recovered'])\n",
        "plt.show()"
      ],
      "execution_count": 102,
      "outputs": [
        {
          "output_type": "display_data",
          "data": {
            "image/png": "[encoded data removed]",
            "text/plain": [
              "<Figure size 1105x390 with 1 Axes>"
            ]
          },
          "metadata": {
            "tags": [],
            "needs_background": "light"
          }
        }
      ]
    },
    {
      "cell_type": "code",
      "metadata": {
        "colab": {
          "base_uri": "https://localhost:8080/",
          "height": 353
        },
        "id": "zMEYdPULDbEd",
        "outputId": "e3bc9856-c2d9-4e3f-d3f3-bd7e3838c24c"
      },
      "source": [
        "#Selecting the top states with most recoverd cases in China\n",
        "top_recovered_ch = sum_ch.sort_values(by=['Recovered'], ascending = False)\n",
        "top_recovered_ch = top_deaths_ch[0:10]\n",
        "top_recovered_ch = top_deaths_ch.reset_index(drop=False)\n",
        "\n",
        "figure(figsize=(17, 6), dpi=65)\n",
        "plt.title(\"Top 10 States With Most Recovered Cases in China\")\n",
        "plt.bar(top_recovered_ch['Province/State'], top_recovered_ch['Recovered'])\n",
        "plt.show()"
      ],
      "execution_count": 103,
      "outputs": [
        {
          "output_type": "display_data",
          "data": {
            "image/png": "[encoded data removed]",
            "text/plain": [
              "<Figure size 1105x390 with 1 Axes>"
            ]
          },
          "metadata": {
            "tags": [],
            "needs_background": "light"
          }
        }
      ]
    },
    {
      "cell_type": "markdown",
      "metadata": {
        "id": "3qgTIw4LAtSH"
      },
      "source": [
        ""
      ]
    },
    {
      "cell_type": "markdown",
      "metadata": {
        "id": "zYgVuJ_Xp7V2"
      },
      "source": [
        "#### Question # 03\n",
        "\n",
        "Since we have dates in the data, let's quantify out how the virus has spread over time and which areas are most affected by the virus. This will help us figure out if the situation is getting any better over time or not.\n",
        "\n",
        "1. Plot the confirmed, deaths and recovered cases as line graphs with dates for US, Iran and China each.\n",
        "2. Looking at the plots, explain which country has seen a surge in confirmed, and death cases?\n",
        "3. Work out the death rate due to COVID-19 in these three countries.\n",
        "4. By examining the plots, which country has been able to efficiently and swiftly recover the confirmed cases? Work out the recovery rate for each country (US, Iran and China) and then answer the question?"
      ]
    },
    {
      "cell_type": "code",
      "metadata": {
        "id": "e8pOj8YkGTLK"
      },
      "source": [
        "## For US"
      ],
      "execution_count": 104,
      "outputs": []
    },
    {
      "cell_type": "code",
      "metadata": {
        "colab": {
          "base_uri": "https://localhost:8080/",
          "height": 407
        },
        "id": "j_POWKD1p7V2",
        "outputId": "2ef120e4-ffe8-444c-f48e-912f70441f05"
      },
      "source": [
        "#ud = df[df['Country/Region'] == \"US\"]\n",
        "#Shortlist by using groupby on ObservationDate\n",
        "gud = ud.groupby('ObservationDate')\n",
        "sum_us = gud.sum('Deaths')\n",
        "sum_us = sum_us.reset_index(drop=False)\n",
        "\n",
        "x = sum_us['ObservationDate']\n",
        "y1 = sum_us['Deaths']\n",
        "y2 = sum_us['Confirmed']\n",
        "y3 = sum_us['Recovered']\n",
        "\n",
        "fig,ax = plt.subplots(figsize=(15, 6))\n",
        "plt.title(\"US Data\")\n",
        "plt.legend()\n",
        "plt.plot(x, y1, label=\"Deaths\", color=\"red\")\n",
        "plt.plot(x, y2, label=\"Confirmed\", color=\"blue\")\n",
        "plt.plot(x, y3, label=\"Recovered\", color=\"green\")\n",
        "plt.show()"
      ],
      "execution_count": 105,
      "outputs": [
        {
          "output_type": "stream",
          "text": [
            "No handles with labels found to put in legend.\n"
          ],
          "name": "stderr"
        },
        {
          "output_type": "display_data",
          "data": {
            "image/png": "[encoded data removed]",
            "text/plain": [
              "<Figure size 1080x432 with 1 Axes>"
            ]
          },
          "metadata": {
            "tags": [],
            "needs_background": "light"
          }
        }
      ]
    },
    {
      "cell_type": "markdown",
      "metadata": {
        "id": "WopK2PxQLWAZ"
      },
      "source": [
        "## For Iran"
      ]
    },
    {
      "cell_type": "code",
      "metadata": {
        "colab": {
          "base_uri": "https://localhost:8080/",
          "height": 407
        },
        "id": "9pj3HyVGImBR",
        "outputId": "b4588b32-7b82-4b6b-c209-8a3ba196f4f7"
      },
      "source": [
        "ird = df[df['Country/Region'] == \"Iran\"]\n",
        "gird = ird.groupby('ObservationDate')\n",
        "sum_ir = gird.sum('Deaths')\n",
        "sum_ir = sum_ir.reset_index(drop=False)\n",
        "\n",
        "x = sum_ir['ObservationDate']\n",
        "y1 = sum_ir['Deaths']\n",
        "y2 = sum_ir['Confirmed']\n",
        "y3 = sum_ir['Recovered']\n",
        "\n",
        "fig,ax = plt.subplots(figsize=(15, 6))\n",
        "plt.title(\"Iran Data\")\n",
        "plt.legend()\n",
        "plt.plot(x, y1, label=\"Deaths\", color=\"red\")\n",
        "plt.plot(x, y2, label=\"Confirmed\", color=\"blue\")\n",
        "plt.plot(x, y3, label=\"Recovered\", color=\"green\")\n",
        "plt.show()"
      ],
      "execution_count": 106,
      "outputs": [
        {
          "output_type": "stream",
          "text": [
            "No handles with labels found to put in legend.\n"
          ],
          "name": "stderr"
        },
        {
          "output_type": "display_data",
          "data": {
            "image/png": "[encoded data removed]",
            "text/plain": [
              "<Figure size 1080x432 with 1 Axes>"
            ]
          },
          "metadata": {
            "tags": [],
            "needs_background": "light"
          }
        }
      ]
    },
    {
      "cell_type": "markdown",
      "metadata": {
        "id": "4fFIot4qLZXB"
      },
      "source": [
        "## For China"
      ]
    },
    {
      "cell_type": "code",
      "metadata": {
        "colab": {
          "base_uri": "https://localhost:8080/",
          "height": 407
        },
        "id": "hq3V5iZGJlA6",
        "outputId": "3a93e3d0-9a66-43bb-ef3f-896799a153a6"
      },
      "source": [
        "cud = cd.groupby('ObservationDate')\n",
        "sum_ch = cud.sum('Deaths')\n",
        "sum_ch = sum_ch.reset_index(drop=False)\n",
        "\n",
        "x = sum_ch['ObservationDate']\n",
        "y1 = sum_ch['Deaths']\n",
        "y2 = sum_ch['Confirmed']\n",
        "y3 = sum_ch['Recovered']\n",
        "\n",
        "fig,ax = plt.subplots(figsize=(15, 6))\n",
        "plt.title(\"China Data\")\n",
        "plt.legend()\n",
        "plt.plot(x, y1, label=\"Deaths\", color=\"red\")\n",
        "plt.plot(x, y2, label=\"Confirmed\", color=\"blue\")\n",
        "plt.plot(x, y3, label=\"Recovered\", color=\"green\")\n",
        "plt.show()"
      ],
      "execution_count": 107,
      "outputs": [
        {
          "output_type": "stream",
          "text": [
            "No handles with labels found to put in legend.\n"
          ],
          "name": "stderr"
        },
        {
          "output_type": "display_data",
          "data": {
            "image/png": "[encoded data removed]",
            "text/plain": [
              "<Figure size 1080x432 with 1 Axes>"
            ]
          },
          "metadata": {
            "tags": [],
            "needs_background": "light"
          }
        }
      ]
    },
    {
      "cell_type": "markdown",
      "metadata": {
        "id": "DwJbOpyfL0U8"
      },
      "source": [
        "### By looking at the graphs, we can see that US has shown surge in death cases while Iran has shown surge in most death cases"
      ]
    },
    {
      "cell_type": "markdown",
      "metadata": {
        "id": "hU2nsZdYNO7C"
      },
      "source": [
        "# Now, calculating the death rate"
      ]
    },
    {
      "cell_type": "markdown",
      "metadata": {
        "id": "fiXJAs-rNbcL"
      },
      "source": [
        "## For US"
      ]
    },
    {
      "cell_type": "code",
      "metadata": {
        "colab": {
          "base_uri": "https://localhost:8080/"
        },
        "id": "ystnc7aHLzgd",
        "outputId": "534bd70b-c804-435b-8f0a-320a27a07ac3"
      },
      "source": [
        "sum_deaths = gud['Deaths'].sum()\n",
        "sum_confirmed = gud['Confirmed'].sum()\n",
        "\n",
        "sum_deaths = sum_deaths[-1:]\n",
        "sum_confirmed = sum_confirmed[-1:]\n",
        "death_ratio = (sum_deaths / sum_confirmed) * 100\n",
        "death_ratio"
      ],
      "execution_count": 108,
      "outputs": [
        {
          "output_type": "execute_result",
          "data": {
            "text/plain": [
              "ObservationDate\n",
              "2021-02-27    1.793044\n",
              "dtype: float64"
            ]
          },
          "metadata": {
            "tags": []
          },
          "execution_count": 108
        }
      ]
    },
    {
      "cell_type": "markdown",
      "metadata": {
        "id": "BEoZkvWJOizo"
      },
      "source": [
        "## For Iran"
      ]
    },
    {
      "cell_type": "code",
      "metadata": {
        "colab": {
          "base_uri": "https://localhost:8080/"
        },
        "id": "Bdb2o04yJleA",
        "outputId": "6988e474-513c-4dbf-96fd-9a36ac18bebd"
      },
      "source": [
        "sum_deaths = gird['Deaths'].sum()\n",
        "sum_confirmed = gird['Confirmed'].sum()\n",
        "\n",
        "sum_deaths = sum_deaths[-1:]\n",
        "sum_confirmed = sum_confirmed[-1:]\n",
        "death_ratio = (sum_deaths / sum_confirmed) * 100\n",
        "death_ratio"
      ],
      "execution_count": 109,
      "outputs": [
        {
          "output_type": "execute_result",
          "data": {
            "text/plain": [
              "ObservationDate\n",
              "2021-02-27    3.695263\n",
              "dtype: float64"
            ]
          },
          "metadata": {
            "tags": []
          },
          "execution_count": 109
        }
      ]
    },
    {
      "cell_type": "markdown",
      "metadata": {
        "id": "J7BxU6juOwka"
      },
      "source": [
        "## For China"
      ]
    },
    {
      "cell_type": "code",
      "metadata": {
        "colab": {
          "base_uri": "https://localhost:8080/"
        },
        "id": "weTKCXZ8Oz3T",
        "outputId": "52519d28-9355-4406-e38d-daa61f4fd8ce"
      },
      "source": [
        "sum_deaths = cud['Deaths'].sum()\n",
        "sum_confirmed = cud['Confirmed'].sum()\n",
        "\n",
        "sum_deaths = sum_deaths[-1:]\n",
        "sum_confirmed = sum_confirmed[-1:]\n",
        "death_ratio = (sum_deaths / sum_confirmed) * 100\n",
        "death_ratio"
      ],
      "execution_count": 110,
      "outputs": [
        {
          "output_type": "execute_result",
          "data": {
            "text/plain": [
              "ObservationDate\n",
              "2021-02-27    5.157242\n",
              "dtype: float64"
            ]
          },
          "metadata": {
            "tags": []
          },
          "execution_count": 110
        }
      ]
    },
    {
      "cell_type": "markdown",
      "metadata": {
        "id": "-iBJhEk5PKKm"
      },
      "source": [
        "# Now, calculating recovery rate"
      ]
    },
    {
      "cell_type": "markdown",
      "metadata": {
        "id": "fAyfg9RVPPbN"
      },
      "source": [
        "## For US"
      ]
    },
    {
      "cell_type": "code",
      "metadata": {
        "colab": {
          "base_uri": "https://localhost:8080/"
        },
        "id": "u41PpzmJPORH",
        "outputId": "951de2c5-1666-420b-d849-51a3b6f1c67d"
      },
      "source": [
        "sum_recovered = gud['Recovered'].sum()\n",
        "sum_confirmed = gud['Confirmed'].sum()\n",
        "\n",
        "sum_recovered = sum_deaths[-1:]\n",
        "sum_confirmed = sum_confirmed[-1:]\n",
        "recovery_ratio = (sum_recovered / sum_confirmed) * 100\n",
        "recovery_ratio"
      ],
      "execution_count": 111,
      "outputs": [
        {
          "output_type": "execute_result",
          "data": {
            "text/plain": [
              "ObservationDate\n",
              "2021-02-27    0.016236\n",
              "dtype: float64"
            ]
          },
          "metadata": {
            "tags": []
          },
          "execution_count": 111
        }
      ]
    },
    {
      "cell_type": "markdown",
      "metadata": {
        "id": "FgDQKMJxPQOM"
      },
      "source": [
        ""
      ]
    },
    {
      "cell_type": "code",
      "metadata": {
        "colab": {
          "base_uri": "https://localhost:8080/"
        },
        "id": "j8xmabJMPQgO",
        "outputId": "6a8e9031-c5e3-41fd-832d-71df17746068"
      },
      "source": [
        "sum_recovered = gird['Recovered'].sum()\n",
        "sum_confirmed = gird['Confirmed'].sum()\n",
        "\n",
        "sum_recovered = sum_recovered[-1:]\n",
        "sum_confirmed = sum_confirmed[-1:]\n",
        "recovery_ratio = (sum_recovered / sum_confirmed) * 100\n",
        "recovery_ratio"
      ],
      "execution_count": 112,
      "outputs": [
        {
          "output_type": "execute_result",
          "data": {
            "text/plain": [
              "ObservationDate\n",
              "2021-02-27    85.421946\n",
              "dtype: float64"
            ]
          },
          "metadata": {
            "tags": []
          },
          "execution_count": 112
        }
      ]
    },
    {
      "cell_type": "markdown",
      "metadata": {
        "id": "tE37vn-PPQz8"
      },
      "source": [
        ""
      ]
    },
    {
      "cell_type": "code",
      "metadata": {
        "colab": {
          "base_uri": "https://localhost:8080/"
        },
        "id": "-JGHGKd0PRGb",
        "outputId": "bc12d42f-e1dc-4215-cc80-a913d7c82e19"
      },
      "source": [
        "sum_recovered = cud['Recovered'].sum()\n",
        "sum_confirmed = cud['Confirmed'].sum()\n",
        "\n",
        "sum_recovered = sum_recovered[-1:]\n",
        "sum_confirmed = sum_confirmed[-1:]\n",
        "recovery_ratio = (sum_recovered / sum_confirmed) * 100\n",
        "recovery_ratio"
      ],
      "execution_count": 113,
      "outputs": [
        {
          "output_type": "execute_result",
          "data": {
            "text/plain": [
              "ObservationDate\n",
              "2021-02-27    94.600247\n",
              "dtype: float64"
            ]
          },
          "metadata": {
            "tags": []
          },
          "execution_count": 113
        }
      ]
    },
    {
      "cell_type": "markdown",
      "metadata": {
        "id": "9dxCcOrxPRW7"
      },
      "source": [
        "### By looking at the values, we can observe that China has the most efficient recovery ratio. "
      ]
    },
    {
      "cell_type": "markdown",
      "metadata": {
        "id": "fY5EPXvxp7V3"
      },
      "source": [
        "#### Question # 04\n",
        "\n",
        "In this question, we will look at another data file namely `time_series_covid_19_deaths.csv`.\n",
        "In this file, time series data of death occurred due to COVID-19 in countries/states/provinces is given.\n",
        "\n",
        "1. Read the file and examine the features.\n",
        "2. Clean the dataset by dropping missing rows with data points.\n",
        "3. Since you already have information for States/Provinces in US, and China with most deaths, you can use those States/Provinces and plot the number of deaths against each of the top 5 states in both China and US."
      ]
    },
    {
      "cell_type": "code",
      "metadata": {
        "colab": {
          "base_uri": "https://localhost:8080/",
          "height": 359
        },
        "id": "okO6v_Zap7V3",
        "outputId": "b3910449-c2d6-42f5-d431-86a75f9b66d2"
      },
      "source": [
        "df1 = pd.read_csv('time_series_covid_19_deaths.csv')\n",
        "\n",
        "\n",
        "#Cleaning the data\n",
        "df1 = df1.dropna()\n",
        "df1 = df1.melt(id_vars=['Province/State', 'Country/Region', 'Lat', 'Long'], value_vars = df1.columns[4:],var_name='Date', value_name='Deaths')\n",
        "df1.head(10)"
      ],
      "execution_count": 114,
      "outputs": [
        {
          "output_type": "execute_result",
          "data": {
            "text/html": [
              "<div>\n",
              "<style scoped>\n",
              "    .dataframe tbody tr th:only-of-type {\n",
              "        vertical-align: middle;\n",
              "    }\n",
              "\n",
              "    .dataframe tbody tr th {\n",
              "        vertical-align: top;\n",
              "    }\n",
              "\n",
              "    .dataframe thead th {\n",
              "        text-align: right;\n",
              "    }\n",
              "</style>\n",
              "<table border=\"1\" class=\"dataframe\">\n",
              "  <thead>\n",
              "    <tr style=\"text-align: right;\">\n",
              "      <th></th>\n",
              "      <th>Province/State</th>\n",
              "      <th>Country/Region</th>\n",
              "      <th>Lat</th>\n",
              "      <th>Long</th>\n",
              "      <th>Date</th>\n",
              "      <th>Deaths</th>\n",
              "    </tr>\n",
              "  </thead>\n",
              "  <tbody>\n",
              "    <tr>\n",
              "      <th>0</th>\n",
              "      <td>Australian Capital Territory</td>\n",
              "      <td>Australia</td>\n",
              "      <td>-35.4735</td>\n",
              "      <td>149.0124</td>\n",
              "      <td>1/22/20</td>\n",
              "      <td>0</td>\n",
              "    </tr>\n",
              "    <tr>\n",
              "      <th>1</th>\n",
              "      <td>New South Wales</td>\n",
              "      <td>Australia</td>\n",
              "      <td>-33.8688</td>\n",
              "      <td>151.2093</td>\n",
              "      <td>1/22/20</td>\n",
              "      <td>0</td>\n",
              "    </tr>\n",
              "    <tr>\n",
              "      <th>2</th>\n",
              "      <td>Northern Territory</td>\n",
              "      <td>Australia</td>\n",
              "      <td>-12.4634</td>\n",
              "      <td>130.8456</td>\n",
              "      <td>1/22/20</td>\n",
              "      <td>0</td>\n",
              "    </tr>\n",
              "    <tr>\n",
              "      <th>3</th>\n",
              "      <td>Queensland</td>\n",
              "      <td>Australia</td>\n",
              "      <td>-27.4698</td>\n",
              "      <td>153.0251</td>\n",
              "      <td>1/22/20</td>\n",
              "      <td>0</td>\n",
              "    </tr>\n",
              "    <tr>\n",
              "      <th>4</th>\n",
              "      <td>South Australia</td>\n",
              "      <td>Australia</td>\n",
              "      <td>-34.9285</td>\n",
              "      <td>138.6007</td>\n",
              "      <td>1/22/20</td>\n",
              "      <td>0</td>\n",
              "    </tr>\n",
              "    <tr>\n",
              "      <th>5</th>\n",
              "      <td>Tasmania</td>\n",
              "      <td>Australia</td>\n",
              "      <td>-42.8821</td>\n",
              "      <td>147.3272</td>\n",
              "      <td>1/22/20</td>\n",
              "      <td>0</td>\n",
              "    </tr>\n",
              "    <tr>\n",
              "      <th>6</th>\n",
              "      <td>Victoria</td>\n",
              "      <td>Australia</td>\n",
              "      <td>-37.8136</td>\n",
              "      <td>144.9631</td>\n",
              "      <td>1/22/20</td>\n",
              "      <td>0</td>\n",
              "    </tr>\n",
              "    <tr>\n",
              "      <th>7</th>\n",
              "      <td>Western Australia</td>\n",
              "      <td>Australia</td>\n",
              "      <td>-31.9505</td>\n",
              "      <td>115.8605</td>\n",
              "      <td>1/22/20</td>\n",
              "      <td>0</td>\n",
              "    </tr>\n",
              "    <tr>\n",
              "      <th>8</th>\n",
              "      <td>Alberta</td>\n",
              "      <td>Canada</td>\n",
              "      <td>53.9333</td>\n",
              "      <td>-116.5765</td>\n",
              "      <td>1/22/20</td>\n",
              "      <td>0</td>\n",
              "    </tr>\n",
              "    <tr>\n",
              "      <th>9</th>\n",
              "      <td>British Columbia</td>\n",
              "      <td>Canada</td>\n",
              "      <td>53.7267</td>\n",
              "      <td>-127.6476</td>\n",
              "      <td>1/22/20</td>\n",
              "      <td>0</td>\n",
              "    </tr>\n",
              "  </tbody>\n",
              "</table>\n",
              "</div>"
            ],
            "text/plain": [
              "                 Province/State Country/Region  ...     Date  Deaths\n",
              "0  Australian Capital Territory      Australia  ...  1/22/20       0\n",
              "1               New South Wales      Australia  ...  1/22/20       0\n",
              "2            Northern Territory      Australia  ...  1/22/20       0\n",
              "3                    Queensland      Australia  ...  1/22/20       0\n",
              "4               South Australia      Australia  ...  1/22/20       0\n",
              "5                      Tasmania      Australia  ...  1/22/20       0\n",
              "6                      Victoria      Australia  ...  1/22/20       0\n",
              "7             Western Australia      Australia  ...  1/22/20       0\n",
              "8                       Alberta         Canada  ...  1/22/20       0\n",
              "9              British Columbia         Canada  ...  1/22/20       0\n",
              "\n",
              "[10 rows x 6 columns]"
            ]
          },
          "metadata": {
            "tags": []
          },
          "execution_count": 114
        }
      ]
    },
    {
      "cell_type": "markdown",
      "metadata": {
        "id": "n_6roNinemek"
      },
      "source": [
        "## For China"
      ]
    },
    {
      "cell_type": "code",
      "metadata": {
        "colab": {
          "base_uri": "https://localhost:8080/",
          "height": 235
        },
        "id": "6RnYftruT1Z5",
        "outputId": "906ccbcf-c090-4b46-8096-792ba5a23627"
      },
      "source": [
        "cmd = df1[df1[\"Country/Region\"] == \"China\"]\n",
        "gcd = cmd.groupby('Province/State')\n",
        "deaths_ch = gcd.sum('Deaths')\n",
        "\n",
        "#Sorting in decending order\n",
        "sort_ch = deaths_ch.sort_values(by=['Deaths'], ascending= False)\n",
        "#Seleceting top 5 states\n",
        "top_ch = sort_ch[0:5]\n",
        "top_ch.head(5)"
      ],
      "execution_count": 115,
      "outputs": [
        {
          "output_type": "execute_result",
          "data": {
            "text/html": [
              "<div>\n",
              "<style scoped>\n",
              "    .dataframe tbody tr th:only-of-type {\n",
              "        vertical-align: middle;\n",
              "    }\n",
              "\n",
              "    .dataframe tbody tr th {\n",
              "        vertical-align: top;\n",
              "    }\n",
              "\n",
              "    .dataframe thead th {\n",
              "        text-align: right;\n",
              "    }\n",
              "</style>\n",
              "<table border=\"1\" class=\"dataframe\">\n",
              "  <thead>\n",
              "    <tr style=\"text-align: right;\">\n",
              "      <th></th>\n",
              "      <th>Lat</th>\n",
              "      <th>Long</th>\n",
              "      <th>Deaths</th>\n",
              "    </tr>\n",
              "    <tr>\n",
              "      <th>Province/State</th>\n",
              "      <th></th>\n",
              "      <th></th>\n",
              "      <th></th>\n",
              "    </tr>\n",
              "  </thead>\n",
              "  <tbody>\n",
              "    <tr>\n",
              "      <th>Hubei</th>\n",
              "      <td>12483.1668</td>\n",
              "      <td>45245.0921</td>\n",
              "      <td>1622012</td>\n",
              "    </tr>\n",
              "    <tr>\n",
              "      <th>Hong Kong</th>\n",
              "      <td>8986.9000</td>\n",
              "      <td>46022.6000</td>\n",
              "      <td>26527</td>\n",
              "    </tr>\n",
              "    <tr>\n",
              "      <th>Henan</th>\n",
              "      <td>15271.9671</td>\n",
              "      <td>46306.3926</td>\n",
              "      <td>8358</td>\n",
              "    </tr>\n",
              "    <tr>\n",
              "      <th>Heilongjiang</th>\n",
              "      <td>19288.3860</td>\n",
              "      <td>51487.8845</td>\n",
              "      <td>4991</td>\n",
              "    </tr>\n",
              "    <tr>\n",
              "      <th>Beijing</th>\n",
              "      <td>16193.5072</td>\n",
              "      <td>46914.9226</td>\n",
              "      <td>3318</td>\n",
              "    </tr>\n",
              "  </tbody>\n",
              "</table>\n",
              "</div>"
            ],
            "text/plain": [
              "                       Lat        Long   Deaths\n",
              "Province/State                                 \n",
              "Hubei           12483.1668  45245.0921  1622012\n",
              "Hong Kong        8986.9000  46022.6000    26527\n",
              "Henan           15271.9671  46306.3926     8358\n",
              "Heilongjiang    19288.3860  51487.8845     4991\n",
              "Beijing         16193.5072  46914.9226     3318"
            ]
          },
          "metadata": {
            "tags": []
          },
          "execution_count": 115
        }
      ]
    },
    {
      "cell_type": "code",
      "metadata": {
        "colab": {
          "base_uri": "https://localhost:8080/",
          "height": 276
        },
        "id": "aXbZlK40diTi",
        "outputId": "40c59e2b-e31a-4714-cd59-b7c2f4d9e46b"
      },
      "source": [
        "data = top_ch.reset_index(drop=False)\n",
        "\n",
        "States = data['Province/State']\n",
        "Deaths = data['Deaths']\n",
        "\n",
        "plt.plot(States, Deaths)\n",
        "plt.show()"
      ],
      "execution_count": 116,
      "outputs": [
        {
          "output_type": "display_data",
          "data": {
            "image/png": "[encoded data removed]",
            "text/plain": [
              "<Figure size 432x288 with 1 Axes>"
            ]
          },
          "metadata": {
            "tags": [],
            "needs_background": "light"
          }
        }
      ]
    },
    {
      "cell_type": "markdown",
      "metadata": {
        "id": "LdFslZOjeqTZ"
      },
      "source": [
        "## For US"
      ]
    },
    {
      "cell_type": "code",
      "metadata": {
        "colab": {
          "base_uri": "https://localhost:8080/",
          "height": 235
        },
        "id": "1EBcVraVd-LZ",
        "outputId": "9ba90813-9498-45fb-8531-e3d94750037a"
      },
      "source": [
        "umd = df[df[\"Country/Region\"] == \"US\"]\n",
        "gud = umd.groupby('Province/State')\n",
        "deaths_us = gud.sum('Deaths')\n",
        "\n",
        "#Sorting in decending order\n",
        "sort_us = deaths_us.sort_values(by=['Deaths'], ascending= False)\n",
        "#Seleceting top 5 states\n",
        "top_us = sort_us[0:5]\n",
        "top_us.head(5)"
      ],
      "execution_count": 117,
      "outputs": [
        {
          "output_type": "execute_result",
          "data": {
            "text/html": [
              "<div>\n",
              "<style scoped>\n",
              "    .dataframe tbody tr th:only-of-type {\n",
              "        vertical-align: middle;\n",
              "    }\n",
              "\n",
              "    .dataframe tbody tr th {\n",
              "        vertical-align: top;\n",
              "    }\n",
              "\n",
              "    .dataframe thead th {\n",
              "        text-align: right;\n",
              "    }\n",
              "</style>\n",
              "<table border=\"1\" class=\"dataframe\">\n",
              "  <thead>\n",
              "    <tr style=\"text-align: right;\">\n",
              "      <th></th>\n",
              "      <th>SNo</th>\n",
              "      <th>Confirmed</th>\n",
              "      <th>Deaths</th>\n",
              "      <th>Recovered</th>\n",
              "    </tr>\n",
              "    <tr>\n",
              "      <th>Province/State</th>\n",
              "      <th></th>\n",
              "      <th></th>\n",
              "      <th></th>\n",
              "      <th></th>\n",
              "    </tr>\n",
              "  </thead>\n",
              "  <tbody>\n",
              "    <tr>\n",
              "      <th>New York</th>\n",
              "      <td>37724933</td>\n",
              "      <td>204886336.0</td>\n",
              "      <td>10888511.0</td>\n",
              "      <td>0.0</td>\n",
              "    </tr>\n",
              "    <tr>\n",
              "      <th>California</th>\n",
              "      <td>37648885</td>\n",
              "      <td>360363199.0</td>\n",
              "      <td>5358608.0</td>\n",
              "      <td>40.0</td>\n",
              "    </tr>\n",
              "    <tr>\n",
              "      <th>Texas</th>\n",
              "      <td>37769945</td>\n",
              "      <td>294436008.0</td>\n",
              "      <td>5072817.0</td>\n",
              "      <td>0.0</td>\n",
              "    </tr>\n",
              "    <tr>\n",
              "      <th>New Jersey</th>\n",
              "      <td>37724344</td>\n",
              "      <td>98775452.0</td>\n",
              "      <td>5054435.0</td>\n",
              "      <td>2.0</td>\n",
              "    </tr>\n",
              "    <tr>\n",
              "      <th>Florida</th>\n",
              "      <td>37665975</td>\n",
              "      <td>235208135.0</td>\n",
              "      <td>4153905.0</td>\n",
              "      <td>0.0</td>\n",
              "    </tr>\n",
              "  </tbody>\n",
              "</table>\n",
              "</div>"
            ],
            "text/plain": [
              "                     SNo    Confirmed      Deaths  Recovered\n",
              "Province/State                                              \n",
              "New York        37724933  204886336.0  10888511.0        0.0\n",
              "California      37648885  360363199.0   5358608.0       40.0\n",
              "Texas           37769945  294436008.0   5072817.0        0.0\n",
              "New Jersey      37724344   98775452.0   5054435.0        2.0\n",
              "Florida         37665975  235208135.0   4153905.0        0.0"
            ]
          },
          "metadata": {
            "tags": []
          },
          "execution_count": 117
        }
      ]
    },
    {
      "cell_type": "code",
      "metadata": {
        "colab": {
          "base_uri": "https://localhost:8080/",
          "height": 276
        },
        "id": "0apNtA8Ie8wB",
        "outputId": "953b4ed5-e1b6-4305-cf53-153734b355a3"
      },
      "source": [
        "data = top_us.reset_index(drop=False)\n",
        "\n",
        "States = data['Province/State']\n",
        "Deaths = data['Deaths']\n",
        "\n",
        "plt.plot(States, Deaths)\n",
        "plt.show()"
      ],
      "execution_count": 118,
      "outputs": [
        {
          "output_type": "display_data",
          "data": {
            "image/png": "[encoded data removed]",
            "text/plain": [
              "<Figure size 432x288 with 1 Axes>"
            ]
          },
          "metadata": {
            "tags": [],
            "needs_background": "light"
          }
        }
      ]
    },
    {
      "cell_type": "markdown",
      "metadata": {
        "id": "S0htoDWLp7V4"
      },
      "source": [
        "#### Question # 05\n",
        "\n",
        "This aspect is interesting since we would get to work with Geographical Plots. You have the latitude and longitude data from the `time_series_covid_19_deaths.csv` data file. You will use that for this question.\n",
        "\n",
        "We will use BaseMap library to plot the latitude and longitude points on the world map.\n",
        "You can download BaseMap by running the following command in your terminal/command line prompt: \n",
        "```\n",
        "pip3 install https://github.com/matplotlib/basemap/archive/v1.1.0.tar.gz\n",
        "```\n",
        "\n",
        "1. Once you have it installed, load up a basic world map and plot the values.\n",
        "2. By visually examining, answer in which countries, the points scatter the most?\n",
        "\n",
        "For reference and working directions with Basemap, you may take help from this video tutorial: <a href=\"https://www.youtube.com/watch?time_continue=114&v=XiZbrii49pI&feature=emb_title\" BASEMAP >BASEMAP TUTORIAL</a>"
      ]
    },
    {
      "cell_type": "code",
      "metadata": {
        "colab": {
          "base_uri": "https://localhost:8080/"
        },
        "id": "_d9-oyY3VR5_",
        "outputId": "af96c490-6607-457d-acae-2af2142fc2fe"
      },
      "source": [
        "!pip install https://github.com/matplotlib/basemap/archive/master.zip"
      ],
      "execution_count": 119,
      "outputs": [
        {
          "output_type": "stream",
          "text": [
            "Collecting https://github.com/matplotlib/basemap/archive/master.zip\n",
            "  Using cached https://github.com/matplotlib/basemap/archive/master.zip\n",
            "Requirement already satisfied (use --upgrade to upgrade): basemap==1.2.2+dev from https://github.com/matplotlib/basemap/archive/master.zip in /usr/local/lib/python3.7/dist-packages\n",
            "Requirement already satisfied: matplotlib!=3.0.1,>=1.0.0 in /usr/local/lib/python3.7/dist-packages (from basemap==1.2.2+dev) (3.2.2)\n",
            "Requirement already satisfied: numpy>=1.2.1 in /usr/local/lib/python3.7/dist-packages (from basemap==1.2.2+dev) (1.19.5)\n",
            "Requirement already satisfied: pyproj>=1.9.3 in /usr/local/lib/python3.7/dist-packages (from basemap==1.2.2+dev) (3.0.1)\n",
            "Requirement already satisfied: pyshp>=1.2.0 in /usr/local/lib/python3.7/dist-packages (from basemap==1.2.2+dev) (2.1.3)\n",
            "Requirement already satisfied: six in /usr/local/lib/python3.7/dist-packages (from basemap==1.2.2+dev) (1.15.0)\n",
            "Requirement already satisfied: python-dateutil>=2.1 in /usr/local/lib/python3.7/dist-packages (from matplotlib!=3.0.1,>=1.0.0->basemap==1.2.2+dev) (2.8.1)\n",
            "Requirement already satisfied: pyparsing!=2.0.4,!=2.1.2,!=2.1.6,>=2.0.1 in /usr/local/lib/python3.7/dist-packages (from matplotlib!=3.0.1,>=1.0.0->basemap==1.2.2+dev) (2.4.7)\n",
            "Requirement already satisfied: kiwisolver>=1.0.1 in /usr/local/lib/python3.7/dist-packages (from matplotlib!=3.0.1,>=1.0.0->basemap==1.2.2+dev) (1.3.1)\n",
            "Requirement already satisfied: cycler>=0.10 in /usr/local/lib/python3.7/dist-packages (from matplotlib!=3.0.1,>=1.0.0->basemap==1.2.2+dev) (0.10.0)\n",
            "Requirement already satisfied: certifi in /usr/local/lib/python3.7/dist-packages (from pyproj>=1.9.3->basemap==1.2.2+dev) (2020.12.5)\n",
            "Building wheels for collected packages: basemap\n",
            "  Building wheel for basemap (setup.py) ... \u001b[?25l\u001b[?25hdone\n",
            "  Created wheel for basemap: filename=basemap-1.2.2+dev-cp37-cp37m-linux_x86_64.whl size=121759571 sha256=e34f1086fe5326aea823b6b55b1b3fd0d591a3804a0a415ffbbd2828cf355dca\n",
            "  Stored in directory: /tmp/pip-ephem-wheel-cache-x4_vajsz/wheels/98/4a/fc/ce719b75d97e646645c225f3332b1b217536100314922e9572\n",
            "Successfully built basemap\n"
          ],
          "name": "stdout"
        }
      ]
    },
    {
      "cell_type": "code",
      "metadata": {
        "colab": {
          "base_uri": "https://localhost:8080/",
          "height": 558
        },
        "id": "1-r7d0ZQp7V4",
        "outputId": "0e23f176-6292-4723-e736-9f982911cd41"
      },
      "source": [
        "from mpl_toolkits.basemap import Basemap\n",
        "\n",
        "fig = plt.figure(figsize=(12,9))\n",
        "m = Basemap(projection=\"mill\",\n",
        "            llcrnrlat =-90,\n",
        "            urcrnrlat = 90,\n",
        "            llcrnrlon=-180,\n",
        "            urcrnrlon=180,\n",
        "            resolution='c')\n",
        "\n",
        "m.drawcoastlines()\n",
        "m.drawparallels(np.arange(-90,90,10),labels=[True,False,False,False])\n",
        "m.drawmeridians(np.arange(-180,180,30),labels=([0,0,0,1]))\n",
        "\n",
        "x = df1['Long'].tolist()\n",
        "y = df1['Lat'].tolist()\n",
        "\n",
        "m.scatter(x, y, latlon=True, c=\"red\", s=100, marker='o', alpha=1, edgecolor='k', linewidth=1, zorder=2)\n",
        "\n",
        "plt.title('Covid 19 Deaths', fontsize=20)\n",
        "\n",
        "plt.show()"
      ],
      "execution_count": 120,
      "outputs": [
        {
          "output_type": "display_data",
          "data": {
            "image/png": "[encoded data removed]",
            "text/plain": [
              "<Figure size 864x648 with 1 Axes>"
            ]
          },
          "metadata": {
            "tags": []
          }
        }
      ]
    },
    {
      "cell_type": "markdown",
      "metadata": {
        "id": "AuQindedp7V4"
      },
      "source": [
        "#### Question # 06\n",
        "\n",
        "For this question, we will use the `COVID19_open_line_list.csv` file. \n",
        "\n",
        "1. Read the data file and examine the features\n",
        "2. We will be working with these feature columns: `age, sex, symptoms, city, province, lives_in_Wuhan, and travel_history_location`.\n",
        "3. Since these are textual values, you need to encode them to integers (maintain an encoding dictionary as well).\n",
        "    * For example in `symptoms` column, you might assign fever -> 1, pneumonia -> 2, headache -> 3, etc.\n",
        "    * There are several multiple symptoms as well for a single row, for those you can just sum the assigned integers. For example a row might list these symptons: fever, headache, since fever -> 1 and headache -> 3, you can replace fever, headache with 1+3 = 4 and so on. Start the integer encoding from 1 so that when summing the numbers, you donot get the same number back (e.g. 0+3 = 3).\n",
        "    * You can do the same for other columns, just to avoid ambiguity, you can encode each column differently. \n",
        "    * For example, for the `symptoms` column, you starting assigning numbers from 1, let's say there were 4 symptoms, so the numbers would range from 1 - 4. For the next column, you can use numbers from 5 and so on. You are free to encode as you want. \n",
        "    * For ease, you can also use sklearn's LabelEncoder.\n",
        "4. Once you have integer coded the entire dataset (7 columns), you can compute the correlation between city (let city column be `y` for this case) and every other column.\n",
        "5. Pick the most 2 correlated fields (using the absolute value of correlations) and make `X`.\n",
        "6. Use MinMaxScaler to scale X. Note that this will output a `np.array`. Make it a DataFrame again and rename the columns appropriately.\n",
        "7. Print the head (5 rows) and tail (5 rows) of this dataframe."
      ]
    },
    {
      "cell_type": "code",
      "metadata": {
        "id": "7Wf3EcbZp7V5"
      },
      "source": [
        ""
      ],
      "execution_count": 120,
      "outputs": []
    }
  ]
}